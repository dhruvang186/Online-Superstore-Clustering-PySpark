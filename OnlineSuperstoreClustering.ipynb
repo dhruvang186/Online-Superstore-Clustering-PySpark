{
  "nbformat": 4,
  "nbformat_minor": 0,
  "metadata": {
    "colab": {
      "provenance": []
    },
    "kernelspec": {
      "name": "python3",
      "display_name": "Python 3"
    },
    "language_info": {
      "name": "python"
    }
  },
  "cells": [
    {
      "cell_type": "code",
      "execution_count": 1,
      "metadata": {
        "id": "a_DwCz_QAyK6"
      },
      "outputs": [],
      "source": [
        "# innstall java\n",
        "!apt-get install openjdk-8-jdk-headless -qq > /dev/null\n",
        "\n",
        "# install spark (change the version number if needed)\n",
        "!wget -q https://archive.apache.org/dist/spark/spark-3.0.0/spark-3.0.0-bin-hadoop3.2.tgz\n",
        "\n",
        "# unzip the spark file to the current folder\n",
        "!tar xf spark-3.0.0-bin-hadoop3.2.tgz\n",
        "\n",
        "# set your spark folder to your system path environment. \n",
        "import os\n",
        "os.environ[\"JAVA_HOME\"] = \"/usr/lib/jvm/java-8-openjdk-amd64\"\n",
        "os.environ[\"SPARK_HOME\"] = \"/content/spark-3.0.0-bin-hadoop3.2\"\n",
        "\n",
        "\n",
        "# install findspark using pip\n",
        "!pip install -q findspark"
      ]
    },
    {
      "cell_type": "code",
      "source": [
        "import findspark\n",
        "findspark.init()\n",
        "from pyspark.sql import SparkSession\n",
        "spark = SparkSession.builder.master(\"local[*]\").getOrCreate()"
      ],
      "metadata": {
        "id": "lT_lYKLUBs01"
      },
      "execution_count": 2,
      "outputs": []
    },
    {
      "cell_type": "code",
      "source": [
        "import pandas as pd"
      ],
      "metadata": {
        "id": "PWwp0sHDIMp4"
      },
      "execution_count": 3,
      "outputs": []
    },
    {
      "cell_type": "code",
      "source": [
        "from google.colab import files\n",
        "files.upload()"
      ],
      "metadata": {
        "id": "9ajFxmy6BxBd"
      },
      "execution_count": null,
      "outputs": []
    },
    {
      "cell_type": "code",
      "source": [
        "gss = spark.read.csv('Global.csv',inferSchema=True, header=True)"
      ],
      "metadata": {
        "id": "rDCr74fvCoMX"
      },
      "execution_count": 5,
      "outputs": []
    },
    {
      "cell_type": "code",
      "source": [
        "gss = gss.drop(\"Postal Code\")"
      ],
      "metadata": {
        "id": "8v_UZvIbEXaw"
      },
      "execution_count": 6,
      "outputs": []
    },
    {
      "cell_type": "code",
      "source": [
        "gss = gss.na.drop()"
      ],
      "metadata": {
        "id": "YKVgAtRqFCh4"
      },
      "execution_count": 7,
      "outputs": []
    },
    {
      "cell_type": "code",
      "source": [
        "from pyspark.ml.feature import VectorAssembler\n",
        "from pyspark.sql.types import IntegerType\n",
        "from pyspark.sql.functions import col\n",
        "from pyspark.sql.types import DateType"
      ],
      "metadata": {
        "id": "IXb4w4tzFMrs"
      },
      "execution_count": 8,
      "outputs": []
    },
    {
      "cell_type": "code",
      "source": [
        "gss = gss.withColumn(\"Sales\",col(\"Sales\").cast(\"double\"))"
      ],
      "metadata": {
        "id": "7G37jtKeDdsc"
      },
      "execution_count": 9,
      "outputs": []
    },
    {
      "cell_type": "code",
      "source": [
        "gss = gss.na.drop()"
      ],
      "metadata": {
        "id": "6p_qvIZ9nkVH"
      },
      "execution_count": 10,
      "outputs": []
    },
    {
      "cell_type": "code",
      "source": [
        "# gss = gss.select(\"Sales\",\"Profit\")\n",
        "gss = gss.withColumn(\"Sales\",col(\"Sales\").cast(\"double\"))\n",
        "gss = gss.withColumn(\"Quantity\",col(\"Quantity\").cast(\"double\"))\n",
        "gss = gss.withColumn(\"Shipping Cost\",col(\"Shipping Cost\").cast(\"double\"))\n",
        "gss = gss.withColumn(\"Discount\",col(\"Discount\").cast(\"double\"))\n",
        "gss = gss.withColumn(\"Profit\",col(\"Profit\").cast(\"double\"))"
      ],
      "metadata": {
        "id": "ULwj_PIDnNvc"
      },
      "execution_count": 11,
      "outputs": []
    },
    {
      "cell_type": "code",
      "source": [
        "assemble=VectorAssembler(inputCols=['Sales','Shipping Cost', 'Discount','Quantity'],outputCol='features2')"
      ],
      "metadata": {
        "id": "B_KX9Z8JhUpC"
      },
      "execution_count": 12,
      "outputs": []
    },
    {
      "cell_type": "code",
      "source": [
        "asd_reg = assemble.transform(gss)\n",
        "asd_reg.show(5)"
      ],
      "metadata": {
        "colab": {
          "base_uri": "https://localhost:8080/"
        },
        "id": "HD615bEohiup",
        "outputId": "643a65d1-b31c-4c49-b1dd-1f413e2c591e"
      },
      "execution_count": 13,
      "outputs": [
        {
          "output_type": "stream",
          "name": "stdout",
          "text": [
            "+------+---------------+----------+----------+------------+-----------+----------------+-----------+-------------+---------------+-------------+------+-------+----------------+----------+------------+--------------------+--------+--------+--------+--------+-------------+--------------+--------------------+\n",
            "|Row ID|       Order ID|Order Date| Ship Date|   Ship Mode|Customer ID|   Customer Name|    Segment|         City|          State|      Country|Market| Region|      Product ID|  Category|Sub-Category|        Product Name|   Sales|Quantity|Discount|  Profit|Shipping Cost|Order Priority|           features2|\n",
            "+------+---------------+----------+----------+------------+-----------+----------------+-----------+-------------+---------------+-------------+------+-------+----------------+----------+------------+--------------------+--------+--------+--------+--------+-------------+--------------+--------------------+\n",
            "| 32298| CA-2012-124891|31-07-2012|31-07-2012|    Same Day|   RH-19495|     Rick Hansen|   Consumer|New York City|       New York|United States|    US|   East| TEC-AC-10003033|Technology| Accessories|Plantronics CS510...| 2309.65|     7.0|     0.0|762.1845|       933.57|      Critical|[2309.65,933.57,0...|\n",
            "| 26341|  IN-2013-77878|05-02-2013|07-02-2013|Second Class|   JR-16210|   Justin Ritter|  Corporate|   Wollongong|New South Wales|    Australia|  APAC|Oceania| FUR-CH-10003950| Furniture|      Chairs|Novimex Executive...|3709.395|     9.0|     0.1|-288.765|       923.63|      Critical|[3709.395,923.63,...|\n",
            "| 25330|  IN-2013-71249|17-10-2013|18-10-2013| First Class|   CR-12730|    Craig Reiter|   Consumer|     Brisbane|     Queensland|    Australia|  APAC|Oceania| TEC-PH-10004664|Technology|      Phones|Nokia Smart Phone...|5175.171|     9.0|     0.1| 919.971|       915.49|        Medium|[5175.171,915.49,...|\n",
            "| 13524|ES-2013-1579342|28-01-2013|30-01-2013| First Class|   KM-16375|Katherine Murray|Home Office|       Berlin|         Berlin|      Germany|    EU|Central| TEC-PH-10004583|Technology|      Phones|Motorola Smart Ph...| 2892.51|     5.0|     0.1|  -96.54|       910.16|        Medium|[2892.51,910.16,0...|\n",
            "| 47221|   SG-2013-4320|05-11-2013|06-11-2013|    Same Day|    RH-9495|     Rick Hansen|   Consumer|        Dakar|          Dakar|      Senegal|Africa| Africa|TEC-SHA-10000501|Technology|     Copiers|Sharp Wireless Fa...| 2832.96|     8.0|     0.0|  311.52|       903.04|      Critical|[2832.96,903.04,0...|\n",
            "+------+---------------+----------+----------+------------+-----------+----------------+-----------+-------------+---------------+-------------+------+-------+----------------+----------+------------+--------------------+--------+--------+--------+--------+-------------+--------------+--------------------+\n",
            "only showing top 5 rows\n",
            "\n"
          ]
        }
      ]
    },
    {
      "cell_type": "code",
      "source": [
        "regdata = asd_reg.select('features2','Profit')"
      ],
      "metadata": {
        "id": "rrXI5bush484"
      },
      "execution_count": 14,
      "outputs": []
    },
    {
      "cell_type": "code",
      "source": [
        "from sklearn.model_selection import train_test_split\n",
        "train_data, test_data = asd_reg.randomSplit([0.7, 0.3])\n",
        "\n"
      ],
      "metadata": {
        "id": "VwHZGlSNieyg"
      },
      "execution_count": 15,
      "outputs": []
    },
    {
      "cell_type": "code",
      "source": [
        "train_data = train_data.na.drop()\n",
        "train_data.show()\n",
        "train_data = train_data.select('features2','Profit')"
      ],
      "metadata": {
        "colab": {
          "base_uri": "https://localhost:8080/"
        },
        "id": "nW9DJRQMmQFg",
        "outputId": "45e27b7a-caf9-490e-b47c-8161dffb725d"
      },
      "execution_count": 16,
      "outputs": [
        {
          "output_type": "stream",
          "name": "stdout",
          "text": [
            "+------+--------------+----------+----------+--------------+-----------+----------------+-----------+--------------------+-----------------+------------------+------+---------+---------------+---------------+------------+--------------------+---------+--------+--------+----------+-------------+--------------+--------------------+\n",
            "|Row ID|      Order ID|Order Date| Ship Date|     Ship Mode|Customer ID|   Customer Name|    Segment|                City|            State|           Country|Market|   Region|     Product ID|       Category|Sub-Category|        Product Name|    Sales|Quantity|Discount|    Profit|Shipping Cost|Order Priority|           features2|\n",
            "+------+--------------+----------+----------+--------------+-----------+----------------+-----------+--------------------+-----------------+------------------+------+---------+---------------+---------------+------------+--------------------+---------+--------+--------+----------+-------------+--------------+--------------------+\n",
            "|     2|MX-2012-155047|15-10-2012|20-10-2012|Standard Class|   KW-16570|  Kelly Williams|   Consumer|       Dos Quebradas|        Risaralda|          Colombia| LATAM|    South|FUR-FU-10004015|      Furniture| Furnishings|Tenex Clock, Durable|   252.16|     8.0|     0.0|     90.72|        13.45|        Medium|[252.16,13.45,0.0...|\n",
            "|     6|MX-2012-155047|15-10-2012|20-10-2012|Standard Class|   KW-16570|  Kelly Williams|   Consumer|       Dos Quebradas|        Risaralda|          Colombia| LATAM|    South|OFF-EN-10001375|Office Supplies|   Envelopes|GlobeWeis Mailers...|    56.12|     2.0|     0.0|     21.32|         4.72|        Medium|[56.12,4.72,0.0,2.0]|\n",
            "|     9|MX-2013-134096|27-09-2013|01-10-2013|Standard Class|   DP-13000|   Darren Powers|   Consumer|           São Paulo|        São Paulo|            Brazil| LATAM|    South|OFF-SU-10003474|Office Supplies|    Supplies|Elite Box Cutter,...|    97.36|     4.0|     0.0|     19.44|         6.86|        Medium|[97.36,6.86,0.0,4.0]|\n",
            "|    10|MX-2013-134096|27-09-2013|01-10-2013|Standard Class|   DP-13000|   Darren Powers|   Consumer|           São Paulo|        São Paulo|            Brazil| LATAM|    South|TEC-AC-10001830|     Technology| Accessories|Enermax Router, E...|   341.52|     2.0|     0.0|     13.64|        17.34|        Medium|[341.52,17.34,0.0...|\n",
            "|    14|MX-2014-121923|24-09-2014|01-10-2014|Standard Class|   PK-18910|    Paul Knutson|Home Office|             Managua|          Managua|         Nicaragua| LATAM|  Central|OFF-EN-10004100|Office Supplies|   Envelopes|Kraft Mailers, Se...|     80.1|     3.0|     0.0|     37.62|         8.86|           Low| [80.1,8.86,0.0,3.0]|\n",
            "|    15|MX-2014-135706|18-10-2014|23-10-2014|Standard Class|   JK-15625|    Jim Karlsson|   Consumer|            Brasília| Federal District|            Brazil| LATAM|    South|OFF-AR-10003914|Office Supplies|         Art|Stanley Canvas, E...|   132.64|     4.0|     0.0|     35.76|          6.2|        Medium|[132.64,6.2,0.0,4.0]|\n",
            "|    21|MX-2013-167759|19-12-2013|25-12-2013|Standard Class|   JE-15610|         Jim Epp|  Corporate|San Cristóbal de ...|          Chiapas|            Mexico| LATAM|    North|FUR-CH-10002132|      Furniture|      Chairs|Hon Rocking Chair...|  273.472|     4.0|     0.2|    95.712|        48.17|           Low|[273.472,48.17,0....|\n",
            "|    22|MX-2013-163139|29-10-2013|02-11-2013|  Second Class|   TB-21055| Ted Butterfield|   Consumer|            Santiago|         Santiago|             Chile| LATAM|    South|TEC-AC-10002749|     Technology| Accessories|  Enermax Mouse, USB|     27.0|     1.0|     0.0|      5.94|          3.9|          High|  [27.0,3.9,0.0,1.0]|\n",
            "|    24|US-2014-119753|03-10-2014|08-10-2014|Standard Class|   DW-13195|    David Wiener|  Corporate|         Panama City|           Panama|            Panama| LATAM|  Central|OFF-BI-10003934|Office Supplies|     Binders|Acco Binding Mach...|    60.66|     3.0|     0.4|    -20.22|          4.0|        Medium| [60.66,4.0,0.4,3.0]|\n",
            "|    27|MX-2014-120607|18-06-2014|25-06-2014|Standard Class|   SP-20650|Stephanie Phelps|  Corporate|            Coyoacán| Distrito Federal|            Mexico| LATAM|    North|OFF-ST-10004296|Office Supplies|     Storage|Rogers Box, Singl...|     80.0|     5.0|     0.0|      34.4|         5.08|        Medium| [80.0,5.08,0.0,5.0]|\n",
            "|    28|US-2013-167129|24-05-2013|31-05-2013|Standard Class|   SC-20050|Sample Company A|Home Office|         Tegucigalpa|Francisco Morazán|          Honduras| LATAM|  Central|OFF-BI-10003709|Office Supplies|     Binders|Wilson Jones Bind...|  141.288|     7.0|     0.4|   -73.052|         9.47|        Medium|[141.288,9.47,0.4...|\n",
            "|    32|US-2013-167129|24-05-2013|31-05-2013|Standard Class|   SC-20050|Sample Company A|Home Office|         Tegucigalpa|Francisco Morazán|          Honduras| LATAM|  Central|OFF-AP-10000023|Office Supplies|  Appliances|Breville Toaster,...|   152.28|     5.0|     0.4|    -99.02|        16.25|        Medium|[152.28,16.25,0.4...|\n",
            "|    33|US-2013-167129|24-05-2013|31-05-2013|Standard Class|   SC-20050|Sample Company A|Home Office|         Tegucigalpa|Francisco Morazán|          Honduras| LATAM|  Central|TEC-CO-10004904|     Technology|     Copiers|Sharp Fax Machine...|941.77824|     8.0|   0.402|-601.74176|        80.28|        Medium|[941.77824,80.28,...|\n",
            "|    37|MX-2014-100727|15-05-2014|18-05-2014|   First Class|   DM-13525|      Don Miller|  Corporate|         Mexico City| Distrito Federal|            Mexico| LATAM|    North|OFF-SU-10002521|Office Supplies|    Supplies|Kleencut Box Cutt...|     90.8|     4.0|     0.0|     31.76|        21.76|          High|[90.8,21.76,0.0,4.0]|\n",
            "|    38|MX-2014-154739|04-07-2014|07-07-2014|  Second Class|   SC-20440|    Shaun Chance|  Corporate|            Artemisa|         Artemisa|              Cuba| LATAM|Caribbean|FUR-TA-10004531|      Furniture|      Tables|Chromcraft Coffee...|   529.32|     3.0|     0.0|    264.66|        94.28|          High|[529.32,94.28,0.0...|\n",
            "|    39|MX-2014-154739|04-07-2014|07-07-2014|  Second Class|   SC-20440|    Shaun Chance|  Corporate|            Artemisa|         Artemisa|              Cuba| LATAM|Caribbean|FUR-BO-10002679|      Furniture|   Bookcases|Ikea Stackable Bo...|    333.6|     4.0|     0.0|    106.72|        45.85|          High|[333.6,45.85,0.0,...|\n",
            "|    40|MX-2014-154739|04-07-2014|07-07-2014|  Second Class|   SC-20440|    Shaun Chance|  Corporate|            Artemisa|         Artemisa|              Cuba| LATAM|Caribbean|OFF-FA-10004587|Office Supplies|   Fasteners|Advantus Rubber B...|    42.72|     4.0|     0.0|       0.4|         6.97|          High|[42.72,6.97,0.0,4.0]|\n",
            "|    42|MX-2013-121839|17-06-2013|21-06-2013|  Second Class|   RW-19690|  Robert Waldorf|   Consumer|          Milpa Alta| Distrito Federal|            Mexico| LATAM|    North|TEC-PH-10001288|     Technology|      Phones|Motorola Speaker ...|   346.08|     4.0|     0.0|    155.68|        33.64|          High|[346.08,33.64,0.0...|\n",
            "|    44|MX-2014-142643|29-10-2014|02-11-2014|Standard Class|   MT-17815|     Meg Tillman|   Consumer|    San Juan del Río|        Querétaro|            Mexico| LATAM|    North|OFF-AP-10002681|Office Supplies|  Appliances|Hamilton Beach St...|   722.36|     2.0|     0.0|     50.56|        44.08|        Medium|[722.36,44.08,0.0...|\n",
            "|    48|US-2012-151372|27-04-2012|02-05-2012|Standard Class|   AS-10240|    Alan Shonely|   Consumer|       Santo Domingo|    Santo Domingo|Dominican Republic| LATAM|Caribbean|TEC-CO-10001756|     Technology|     Copiers|Canon Personal Co...|153.40752|     2.0|   0.202|  36.12752|        14.25|        Medium|[153.40752,14.25,...|\n",
            "+------+--------------+----------+----------+--------------+-----------+----------------+-----------+--------------------+-----------------+------------------+------+---------+---------------+---------------+------------+--------------------+---------+--------+--------+----------+-------------+--------------+--------------------+\n",
            "only showing top 20 rows\n",
            "\n"
          ]
        }
      ]
    },
    {
      "cell_type": "code",
      "source": [
        "from pyspark.ml.regression import LinearRegression"
      ],
      "metadata": {
        "id": "NvecbbqMitqI"
      },
      "execution_count": 18,
      "outputs": []
    },
    {
      "cell_type": "code",
      "source": [
        "models = LinearRegression(featuresCol='features2',labelCol='Profit')\n",
        "Ecommodel = models.fit(train_data)\n",
        "\n",
        "summary = Ecommodel.summary\n",
        "\n",
        "print('RMSE:',summary.rootMeanSquaredError)\n",
        "print('R2 score:', summary.r2)\n",
        "print('MAE score:', summary.meanAbsoluteError)\n",
        "print('MSE score:', summary.meanSquaredError)"
      ],
      "metadata": {
        "colab": {
          "base_uri": "https://localhost:8080/"
        },
        "id": "iY5xmeZQiwpM",
        "outputId": "a884f40a-7cfd-493c-fe7d-3e35164f3544"
      },
      "execution_count": 19,
      "outputs": [
        {
          "output_type": "stream",
          "name": "stdout",
          "text": [
            "RMSE: 146.10920003939833\n",
            "R2 score: 0.2960265616394514\n",
            "MAE score: 58.70823377910164\n",
            "MSE score: 21347.898336152917\n"
          ]
        }
      ]
    },
    {
      "cell_type": "code",
      "source": [
        "Ecommodeltest = models.fit(test_data)\n",
        "\n",
        "# Get summary of the model\n",
        "summary = Ecommodeltest.summary\n",
        "\n",
        "# Print RMSE , R2 , MAE , MSE\n",
        "print('RMSE:',summary.rootMeanSquaredError)\n",
        "print('R2 score:', summary.r2)\n",
        "print('MAE score:', summary.meanAbsoluteError)\n",
        "print('MSE score:', summary.meanSquaredError)"
      ],
      "metadata": {
        "colab": {
          "base_uri": "https://localhost:8080/"
        },
        "id": "0G-VjHhKKDG9",
        "outputId": "377016b8-8746-4971-981d-e6ee931f7c44"
      },
      "execution_count": 22,
      "outputs": [
        {
          "output_type": "stream",
          "name": "stdout",
          "text": [
            "RMSE: 140.41485856838054\n",
            "R2 score: 0.36625215092126107\n",
            "MAE score: 59.053537158428554\n",
            "MSE score: 19716.33250677831\n"
          ]
        }
      ]
    },
    {
      "cell_type": "code",
      "source": [
        "predictions = Ecommodel.transform(test_data)\n",
        "\n",
        "# Display the predictions\n",
        "predictions.show(20)"
      ],
      "metadata": {
        "colab": {
          "base_uri": "https://localhost:8080/"
        },
        "id": "IqvOvcs90Z3a",
        "outputId": "aac422f7-bb00-4e90-c018-566846bbdbc1"
      },
      "execution_count": 21,
      "outputs": [
        {
          "output_type": "stream",
          "name": "stdout",
          "text": [
            "+------+--------------+----------+----------+--------------+-----------+----------------+-----------+----------------+-------------------+------------------+------+---------+---------------+---------------+------------+--------------------+---------+--------+--------+---------+-------------+--------------+--------------------+-------------------+\n",
            "|Row ID|      Order ID|Order Date| Ship Date|     Ship Mode|Customer ID|   Customer Name|    Segment|            City|              State|           Country|Market|   Region|     Product ID|       Category|Sub-Category|        Product Name|    Sales|Quantity|Discount|   Profit|Shipping Cost|Order Priority|           features2|         prediction|\n",
            "+------+--------------+----------+----------+--------------+-----------+----------------+-----------+----------------+-------------------+------------------+------+---------+---------------+---------------+------------+--------------------+---------+--------+--------+---------+-------------+--------------+--------------------+-------------------+\n",
            "|     3|MX-2012-155047|15-10-2012|20-10-2012|Standard Class|   KW-16570|  Kelly Williams|   Consumer|   Dos Quebradas|          Risaralda|          Colombia| LATAM|    South|FUR-BO-10002352|      Furniture|   Bookcases|Ikea 3-Shelf Cabi...|   193.28|     2.0|     0.0|    54.08|         9.63|        Medium|[193.28,9.63,0.0,...|  57.83737265665327|\n",
            "|     5|MX-2012-155047|15-10-2012|20-10-2012|Standard Class|   KW-16570|  Kelly Williams|   Consumer|   Dos Quebradas|          Risaralda|          Colombia| LATAM|    South|OFF-AR-10004594|Office Supplies|         Art|Sanford Canvas, W...|     71.6|     2.0|     0.0|    11.44|         3.79|        Medium| [71.6,3.79,0.0,2.0]|  38.00792386636629|\n",
            "|     7|MX-2013-134096|27-09-2013|01-10-2013|Standard Class|   DP-13000|   Darren Powers|   Consumer|       São Paulo|          São Paulo|            Brazil| LATAM|    South|OFF-EN-10001375|Office Supplies|   Envelopes|GlobeWeis Mailers...|    56.12|     2.0|     0.0|    21.32|         4.11|        Medium|[56.12,4.11,0.0,2.0]| 35.425765429162226|\n",
            "|     8|MX-2013-134096|27-09-2013|01-10-2013|Standard Class|   DP-13000|   Darren Powers|   Consumer|       São Paulo|          São Paulo|            Brazil| LATAM|    South|TEC-MA-10004956|     Technology|    Machines|Konica Card Print...|   344.64|     3.0|     0.0|   165.42|         26.2|        Medium|[344.64,26.2,0.0,...|  78.96518351379575|\n",
            "|    13|MX-2013-156335|05-03-2013|12-03-2013|Standard Class|   TB-21250|    Tim Brockman|   Consumer|         Managua|            Managua|         Nicaragua| LATAM|  Central|FUR-CH-10002846|      Furniture|      Chairs|Hon Steel Folding...|   210.64|     4.0|     0.0|    50.48|        16.07|        Medium|[210.64,16.07,0.0...|  54.31725431442982|\n",
            "|    18|US-2013-126655|26-06-2013|01-07-2013|Standard Class|   HE-14800|    Harold Engle|  Corporate|   San Miguelito|             Panama|            Panama| LATAM|  Central|FUR-FU-10003066|      Furniture| Furnishings|Deflect-O Frame, ...|   308.28|     7.0|     0.4|   -149.1|        27.77|        Medium|[308.28,27.77,0.4...| -31.53658246529894|\n",
            "|    23|MX-2013-163139|29-10-2013|02-11-2013|  Second Class|   TB-21055| Ted Butterfield|   Consumer|        Santiago|           Santiago|             Chile| LATAM|    South|OFF-SU-10000066|Office Supplies|    Supplies|Acme Box Cutter, ...|    207.0|     9.0|     0.0|    66.24|        37.86|          High|[207.0,37.86,0.0,...| 37.406429748101175|\n",
            "|    26|MX-2014-120607|18-06-2014|25-06-2014|Standard Class|   SP-20650|Stephanie Phelps|  Corporate|        Coyoacán|   Distrito Federal|            Mexico| LATAM|    North|TEC-CO-10003541|     Technology|     Copiers|HP Copy Machine, ...|326.18632|     2.0|   0.002| 64.70632|        16.78|        Medium|[326.18632,16.78,...|  78.99155471382261|\n",
            "|    30|US-2013-167129|24-05-2013|31-05-2013|Standard Class|   SC-20050|Sample Company A|Home Office|     Tegucigalpa|  Francisco Morazán|          Honduras| LATAM|  Central|TEC-PH-10002483|     Technology|      Phones|Motorola Office T...|  114.816|     4.0|     0.4|  -49.824|         5.92|        Medium|[114.816,5.92,0.4...| -53.30801126716714|\n",
            "|    35|MX-2014-100727|15-05-2014|18-05-2014|   First Class|   DM-13525|      Don Miller|  Corporate|     Mexico City|   Distrito Federal|            Mexico| LATAM|    North|OFF-SU-10004480|Office Supplies|    Supplies|Fiskars Box Cutte...|   300.72|    14.0|     0.0|   129.08|        21.22|          High|[300.72,21.22,0.0...|  38.77355599023514|\n",
            "|    36|MX-2014-100727|15-05-2014|18-05-2014|   First Class|   DM-13525|      Don Miller|  Corporate|     Mexico City|   Distrito Federal|            Mexico| LATAM|    North|OFF-SU-10003162|Office Supplies|    Supplies|Acme Letter Opene...|   138.18|     7.0|     0.0|    53.76|        19.54|          High|[138.18,19.54,0.0...|   33.0669656332682|\n",
            "|    41|MX-2014-121398|09-12-2014|11-12-2014|  Second Class|   AR-10825|  Anthony Rawles|  Corporate|       La Romana|          La Romana|Dominican Republic| LATAM|Caribbean|OFF-SU-10001132|Office Supplies|    Supplies|Fiskars Trimmer, ...|     62.4|     3.0|     0.2|     8.58|        15.74|      Critical|[62.4,15.74,0.2,3.0]|-13.362433463234261|\n",
            "|    43|MX-2014-142643|29-10-2014|02-11-2014|Standard Class|   MT-17815|     Meg Tillman|   Consumer|San Juan del Río|          Querétaro|            Mexico| LATAM|    North|TEC-MA-10003625|     Technology|    Machines|Panasonic Inkjet,...|    414.0|     2.0|     0.0|    45.52|        21.91|        Medium|[414.0,21.91,0.0,...|  93.71239473311753|\n",
            "|    46|MX-2014-164959|16-01-2014|17-01-2014|      Same Day|   LC-16960| Lindsay Castell|Home Office|         Goiânia|              Goiás|            Brazil| LATAM|    South|FUR-CH-10002088|      Furniture|      Chairs|Novimex Steel Fol...|   168.96|     3.0|     0.0|     40.5|        55.02|      Critical|[168.96,55.02,0.0...|  48.25129053129884|\n",
            "|    47|US-2012-151372|27-04-2012|02-05-2012|Standard Class|   AS-10240|    Alan Shonely|   Consumer|   Santo Domingo|      Santo Domingo|Dominican Republic| LATAM|Caribbean|OFF-ST-10003184|Office Supplies|     Storage|Eldon Trays, Wire...|   125.44|     5.0|     0.2|    -0.06|        10.19|        Medium|[125.44,10.19,0.2...| -8.644794344621907|\n",
            "|    52|US-2011-150987|02-04-2011|06-04-2011|  Second Class|   DW-13480|   Dianna Wilson|Home Office|     Tegucigalpa|  Francisco Morazán|          Honduras| LATAM|  Central|TEC-CO-10003142|     Technology|     Copiers|Hewlett Fax and C...|230.67252|     3.0|   0.402|-85.64748|         9.81|        Medium|[230.67252,9.81,0...|-31.777984408031777|\n",
            "|    58|MX-2011-137897|17-05-2011|20-05-2011|  Second Class|   JM-15580|   Jill Matthias|   Consumer|      Tulancingo|            Hidalgo|            Mexico| LATAM|    North|TEC-PH-10000018|     Technology|      Phones|Nokia Smart Phone...|   2124.5|     5.0|     0.0|    488.6|       447.66|          High|[2124.5,447.66,0....|  344.1800277805605|\n",
            "|    61|MX-2011-155488|21-10-2011|27-10-2011|Standard Class|   CC-12220|    Chris Cortes|   Consumer|          La Paz|Baja California Sur|            Mexico| LATAM|    North|OFF-AP-10001723|Office Supplies|  Appliances|Hoover Blender, B...|    63.54|     1.0|     0.0|    20.96|         4.42|        Medium|[63.54,4.42,0.0,1.0]|  39.65526170092244|\n",
            "|    64|MX-2014-165442|14-03-2014|17-03-2014|   First Class|   BT-11530| Bradley Talbott|Home Office|          Madero|         Tamaulipas|            Mexico| LATAM|    North|OFF-BI-10003952|Office Supplies|     Binders|Acco Binding Mach...|     68.6|     2.0|     0.0|    26.72|        14.02|          High|[68.6,14.02,0.0,2.0]|  36.93856331094991|\n",
            "|    66|US-2012-104997|05-11-2012|11-11-2012|Standard Class|   RK-19300|   Ralph Kennedy|   Consumer|        La Ceiba|          Atlántida|          Honduras| LATAM|  Central|FUR-TA-10004584|      Furniture|      Tables|Hon Training Tabl...|  132.108|     2.0|     0.7|  -92.492|        10.48|        Medium|[132.108,10.48,0....|-113.90331461698176|\n",
            "+------+--------------+----------+----------+--------------+-----------+----------------+-----------+----------------+-------------------+------------------+------+---------+---------------+---------------+------------+--------------------+---------+--------+--------+---------+-------------+--------------+--------------------+-------------------+\n",
            "only showing top 20 rows\n",
            "\n"
          ]
        }
      ]
    },
    {
      "cell_type": "code",
      "source": [
        "gss_profit = gss.filter(gss.Profit > 0)\n",
        "gss_loss = gss.filter(gss.Profit < 0)\n",
        "gss_profit = gss_profit.select(\"Profit\",\"Sales\")\n",
        "gss_profit = gss_profit.na.drop()\n",
        "gss_loss = gss_loss.na.drop()"
      ],
      "metadata": {
        "id": "Vcs-EmXru00Q"
      },
      "execution_count": 76,
      "outputs": []
    },
    {
      "cell_type": "code",
      "source": [
        "\n",
        "assemble=VectorAssembler(inputCols=['Profit','Sales'],outputCol='features')    #,'Discount','Quantity','Shipping Cost'], outputCol='features')\n"
      ],
      "metadata": {
        "id": "MNwpgvmInPlM"
      },
      "execution_count": 77,
      "outputs": []
    },
    {
      "cell_type": "code",
      "source": [
        "asd = assemble.transform(gss_profit)\n",
        "asd.show(5)\n"
      ],
      "metadata": {
        "colab": {
          "base_uri": "https://localhost:8080/"
        },
        "id": "uASIg0t7qtMz",
        "outputId": "3ecb646d-8b38-4373-eff1-a9bbb1f3e57f"
      },
      "execution_count": 78,
      "outputs": [
        {
          "output_type": "stream",
          "name": "stdout",
          "text": [
            "+--------+--------+------------------+\n",
            "|  Profit|   Sales|          features|\n",
            "+--------+--------+------------------+\n",
            "|762.1845| 2309.65|[762.1845,2309.65]|\n",
            "| 919.971|5175.171|[919.971,5175.171]|\n",
            "|  311.52| 2832.96|  [311.52,2832.96]|\n",
            "| 763.275|2862.675|[763.275,2862.675]|\n",
            "|  564.84| 1822.08|  [564.84,1822.08]|\n",
            "+--------+--------+------------------+\n",
            "only showing top 5 rows\n",
            "\n"
          ]
        }
      ]
    },
    {
      "cell_type": "code",
      "source": [
        "gss_profit = gss_profit.toPandas()\n",
        "from pyspark.ml.clustering import KMeans\n",
        "from pyspark.ml.evaluation import ClusteringEvaluator\n",
        "from sklearn.cluster import KMeans\n",
        "Sum_of_squared_distances = []\n",
        "K = range(1,15)\n",
        "for k in K:\n",
        "    km = KMeans(n_clusters=k)\n",
        "    km = km.fit(gss_profit)\n",
        "    Sum_of_squared_distances.append(km.inertia_)"
      ],
      "metadata": {
        "id": "idjZhy0NnPuq"
      },
      "execution_count": 79,
      "outputs": []
    },
    {
      "cell_type": "code",
      "source": [
        "import matplotlib.pyplot as plt\n",
        "plt.plot(K, Sum_of_squared_distances, 'bx-')\n",
        "plt.xlabel('k')\n",
        "plt.ylabel('Sum_of_squared_distances')\n",
        "plt.title('Elbow Method For Optimal k')\n",
        "plt.show()"
      ],
      "metadata": {
        "colab": {
          "base_uri": "https://localhost:8080/",
          "height": 295
        },
        "id": "pWm4jmF9nPxi",
        "outputId": "329708f7-fdd1-4252-ff5e-fae5b9306b2d"
      },
      "execution_count": 80,
      "outputs": [
        {
          "output_type": "display_data",
          "data": {
            "text/plain": [
              "<Figure size 432x288 with 1 Axes>"
            ],
            "image/png": "[encoded data removed]"
          },
          "metadata": {
            "needs_background": "light"
          }
        }
      ]
    },
    {
      "cell_type": "code",
      "source": [
        "\n",
        "from pyspark.ml.clustering import KMeans\n",
        "from pyspark.ml.evaluation import ClusteringEvaluator\n",
        "KMeans_=KMeans(featuresCol='features', k=3) \n",
        "KMeans_Model=KMeans_.fit(asd)\n",
        "KMeans_Assignments=KMeans_Model.transform(asd)"
      ],
      "metadata": {
        "id": "gas5DZxSnP0Z"
      },
      "execution_count": 81,
      "outputs": []
    },
    {
      "cell_type": "code",
      "source": [
        "combined_result = KMeans_Assignments.select(\"Profit\", \"Sales\",\"prediction\")  #\"Discount\", \"Shipping Cost\", \"Quantity\",\"prediction\")\n",
        "combined_result.show()"
      ],
      "metadata": {
        "colab": {
          "base_uri": "https://localhost:8080/"
        },
        "id": "S2KFHx1QnP3U",
        "outputId": "fa147a5b-58a1-45f3-9271-992b7bf203b7"
      },
      "execution_count": 82,
      "outputs": [
        {
          "output_type": "stream",
          "name": "stdout",
          "text": [
            "+--------+--------+----------+\n",
            "|  Profit|   Sales|prediction|\n",
            "+--------+--------+----------+\n",
            "|762.1845| 2309.65|         1|\n",
            "| 919.971|5175.171|         1|\n",
            "|  311.52| 2832.96|         1|\n",
            "| 763.275|2862.675|         1|\n",
            "|  564.84| 1822.08|         2|\n",
            "|  996.48| 5244.84|         1|\n",
            "|1906.485| 5083.96|         1|\n",
            "|  83.281| 4164.05|         1|\n",
            "|  647.55| 4626.15|         1|\n",
            "|  1151.4| 2616.96|         1|\n",
            "|  622.02|  2221.8|         1|\n",
            "| 1036.08| 3701.52|         1|\n",
            "| 186.948|1869.588|         2|\n",
            "|517.4793| 2249.91|         1|\n",
            "| 3979.08| 7958.58|         1|\n",
            "|  28.404|2565.594|         1|\n",
            "|  818.28| 3409.74|         1|\n",
            "|  276.84| 1977.72|         2|\n",
            "| 341.994|2735.952|         1|\n",
            "|  358.02|  2754.0|         1|\n",
            "+--------+--------+----------+\n",
            "only showing top 20 rows\n",
            "\n"
          ]
        }
      ]
    },
    {
      "cell_type": "code",
      "source": [
        "combined_result = combined_result.toPandas()\n",
        "import seaborn as sns\n",
        "fig, ax = plt.subplots(1, 1, figsize=(8, 8))\n",
        "sns.scatterplot(x='Sales', y='Profit', \n",
        "                data=combined_result, \n",
        "                hue='prediction', \n",
        "                palette=\"deep\")"
      ],
      "metadata": {
        "colab": {
          "base_uri": "https://localhost:8080/",
          "height": 514
        },
        "id": "4XShUiqZnP6I",
        "outputId": "9a80be6a-582f-404c-ee83-b4e72cd9b56a"
      },
      "execution_count": 83,
      "outputs": [
        {
          "output_type": "execute_result",
          "data": {
            "text/plain": [
              "<matplotlib.axes._subplots.AxesSubplot at 0x7fb7c1c4d280>"
            ]
          },
          "metadata": {},
          "execution_count": 83
        },
        {
          "output_type": "display_data",
          "data": {
            "text/plain": [
              "<Figure size 576x576 with 1 Axes>"
            ],
            "image/png": "[encoded data removed]"
          },
          "metadata": {
            "needs_background": "light"
          }
        }
      ]
    },
    {
      "cell_type": "code",
      "source": [
        "from pyspark.ml.clustering import KMeans\n",
        "from pyspark.ml.evaluation import ClusteringEvaluator\n",
        "\n",
        "silhouette_scores=[]\n",
        "evaluator = ClusteringEvaluator(featuresCol='features', \\\n",
        "metricName='silhouette', distanceMeasure='squaredEuclidean')\n",
        "\n",
        "for K in range(2,6):\n",
        "\n",
        "    KMeans_=KMeans(featuresCol='features', k=K)\n",
        "\n",
        "    KMeans_fit=KMeans_.fit(asd)\n",
        "\n",
        "    KMeans_transform=KMeans_fit.transform(asd) \n",
        "\n",
        "    evaluation_score=evaluator.evaluate(KMeans_transform)\n",
        "\n",
        "    silhouette_scores.append(evaluation_score)\n",
        "\n",
        "    "
      ],
      "metadata": {
        "id": "UmLZXQuanP86"
      },
      "execution_count": 84,
      "outputs": []
    },
    {
      "cell_type": "code",
      "source": [
        "print(\"Silhouette Score:\",str(evaluation_score))"
      ],
      "metadata": {
        "colab": {
          "base_uri": "https://localhost:8080/"
        },
        "id": "IRnAyTRDnQAJ",
        "outputId": "826d4074-c3f0-4da2-9d06-df44088c4da8"
      },
      "execution_count": 85,
      "outputs": [
        {
          "output_type": "stream",
          "name": "stdout",
          "text": [
            "Silhouette Score: 0.864654699644835\n"
          ]
        }
      ]
    },
    {
      "cell_type": "code",
      "source": [
        "centers = KMeans_Model.clusterCenters()\n",
        "print(centers)"
      ],
      "metadata": {
        "colab": {
          "base_uri": "https://localhost:8080/"
        },
        "id": "hxNME6CEnQC8",
        "outputId": "e41fb52c-ea4d-4493-9dc7-e6186dd69591"
      },
      "execution_count": 86,
      "outputs": [
        {
          "output_type": "stream",
          "name": "stdout",
          "text": [
            "[array([ 29.90722947, 125.28437899]), array([ 816.45719293, 3161.62880833]), array([ 233.41979912, 1012.8965264 ])]\n"
          ]
        }
      ]
    },
    {
      "cell_type": "markdown",
      "source": [
        "Cluster for loss making data"
      ],
      "metadata": {
        "id": "gHmFF-cN0p1b"
      }
    },
    {
      "cell_type": "code",
      "source": [
        "gss_loss = gss.filter(gss.Profit < 0)\n",
        "gss_loss = gss_loss.filter(gss_loss.Sales < 22000 )"
      ],
      "metadata": {
        "id": "tSf23efNnQIR"
      },
      "execution_count": 87,
      "outputs": []
    },
    {
      "cell_type": "code",
      "source": [
        "gss_loss = gss_loss.na.drop()"
      ],
      "metadata": {
        "id": "soPDlD7XnQLT"
      },
      "execution_count": 89,
      "outputs": []
    },
    {
      "cell_type": "code",
      "source": [
        "gss_loss = gss_loss.select(\"Sales\",\"Profit\")                                                 #,\"Shipping Cost\",\"Discount\")\n",
        "gss_loss = gss_loss.withColumn(\"Sales\",col(\"Sales\").cast(\"double\"))\n",
        "#gss_loss = gss_loss.withColumn(\"Quantity\",col(\"Quantity\").cast(\"double\"))\n",
        "#gss_loss = gss_loss.withColumn(\"Shipping Cost\",col(\"Shipping Cost\").cast(\"double\"))\n",
        "#gss_loss = gss_loss.withColumn(\"Discount\",col(\"Discount\").cast(\"double\"))\n",
        "gss_loss = gss_loss.withColumn(\"Profit\",col(\"Profit\").cast(\"double\"))"
      ],
      "metadata": {
        "id": "BsqggwIa05xH"
      },
      "execution_count": 91,
      "outputs": []
    },
    {
      "cell_type": "code",
      "source": [
        "assemble1=VectorAssembler(inputCols=['Profit','Sales'], outputCol='features1')"
      ],
      "metadata": {
        "id": "R2rHvkGc057_"
      },
      "execution_count": 92,
      "outputs": []
    },
    {
      "cell_type": "code",
      "source": [
        "asdloss = assemble1.transform(gss_loss)\n",
        "asdloss.show(5)"
      ],
      "metadata": {
        "colab": {
          "base_uri": "https://localhost:8080/"
        },
        "id": "tvHlGvF405-y",
        "outputId": "f6732284-6413-4c9c-9578-cd755b26a876"
      },
      "execution_count": 93,
      "outputs": [
        {
          "output_type": "stream",
          "name": "stdout",
          "text": [
            "+--------+----------+--------------------+\n",
            "|   Sales|    Profit|           features1|\n",
            "+--------+----------+--------------------+\n",
            "|3709.395|  -288.765| [-288.765,3709.395]|\n",
            "| 2892.51|    -96.54|    [-96.54,2892.51]|\n",
            "|4297.644|-1862.3124|[-1862.3124,4297....|\n",
            "| 1696.64|   -148.46|   [-148.46,1696.64]|\n",
            "| 2453.43|   -350.49|   [-350.49,2453.43]|\n",
            "+--------+----------+--------------------+\n",
            "only showing top 5 rows\n",
            "\n"
          ]
        }
      ]
    },
    {
      "cell_type": "code",
      "source": [
        "gss_loss = gss_loss.toPandas()\n",
        "from pyspark.ml.clustering import KMeans\n",
        "from pyspark.ml.evaluation import ClusteringEvaluator\n",
        "from sklearn.cluster import KMeans\n",
        "Sum_of_squared_distances = []\n",
        "K = range(1,15)\n",
        "for k in K:\n",
        "    km = KMeans(n_clusters=k)\n",
        "    km = km.fit(gss_loss)\n",
        "    Sum_of_squared_distances.append(km.inertia_)"
      ],
      "metadata": {
        "id": "Sv51nJQG06B4"
      },
      "execution_count": 94,
      "outputs": []
    },
    {
      "cell_type": "code",
      "source": [
        "import matplotlib.pyplot as plt\n",
        "plt.plot(K, Sum_of_squared_distances, 'bx-')\n",
        "plt.xlabel('k')\n",
        "plt.ylabel('Sum_of_squared_distances')\n",
        "plt.title('Elbow Method For Optimal k')\n",
        "plt.show()"
      ],
      "metadata": {
        "colab": {
          "base_uri": "https://localhost:8080/",
          "height": 295
        },
        "id": "YJQyKJQP06GA",
        "outputId": "f2f1219c-65ef-4a48-eb5b-c6bf9137f6fe"
      },
      "execution_count": 95,
      "outputs": [
        {
          "output_type": "display_data",
          "data": {
            "text/plain": [
              "<Figure size 432x288 with 1 Axes>"
            ],
            "image/png": "[encoded data removed]"
          },
          "metadata": {
            "needs_background": "light"
          }
        }
      ]
    },
    {
      "cell_type": "code",
      "source": [
        "\n",
        "from pyspark.ml.clustering import KMeans\n",
        "from pyspark.ml.evaluation import ClusteringEvaluator\n",
        "KMeans_loss=KMeans(featuresCol='features1', k=4) \n",
        "KMeans_Model_loss=KMeans_loss.fit(asdloss)\n",
        "KMeans_Assignments_loss=KMeans_Model_loss.transform(asdloss)"
      ],
      "metadata": {
        "id": "_iaX4n7-06JK"
      },
      "execution_count": 96,
      "outputs": []
    },
    {
      "cell_type": "code",
      "source": [
        "combined_result_loss = KMeans_Assignments_loss.select(\"Profit\", \"Sales\",\"prediction\")  #, \"Discount\", \"Shipping Cost\", \"Quantity\",\"prediction\")\n",
        "combined_result_loss.show()"
      ],
      "metadata": {
        "colab": {
          "base_uri": "https://localhost:8080/"
        },
        "id": "7fjpU0iQ06Kx",
        "outputId": "9b65378d-50b5-4998-ce97-9b6187f97b2f"
      },
      "execution_count": 97,
      "outputs": [
        {
          "output_type": "stream",
          "name": "stdout",
          "text": [
            "+----------+---------+----------+\n",
            "|    Profit|    Sales|prediction|\n",
            "+----------+---------+----------+\n",
            "|  -288.765| 3709.395|         2|\n",
            "|    -96.54|  2892.51|         1|\n",
            "|-1862.3124| 4297.644|         2|\n",
            "|   -148.46|  1696.64|         1|\n",
            "|   -350.49|  2453.43|         1|\n",
            "|-3839.9904|  7999.98|         2|\n",
            "|  -77.2038|3200.5962|         1|\n",
            "| -452.8104|3427.1496|         2|\n",
            "|  -630.882| 4416.174|         2|\n",
            "| -269.7912|2487.8088|         1|\n",
            "|    -0.054| 2016.846|         1|\n",
            "| -2211.165| 2570.865|         2|\n",
            "|  -1783.08|  2875.77|         2|\n",
            "|    -37.83|  1695.87|         1|\n",
            "|  -265.761| 1505.979|         1|\n",
            "|   -286.92|  1024.68|         3|\n",
            "|  -214.725| 2760.345|         1|\n",
            "| -1784.895| 1983.135|         1|\n",
            "| -317.1528|2396.2656|         1|\n",
            "| -128.7198|3126.4002|         1|\n",
            "+----------+---------+----------+\n",
            "only showing top 20 rows\n",
            "\n"
          ]
        }
      ]
    },
    {
      "cell_type": "code",
      "source": [
        "combined_result_loss = combined_result_loss.toPandas()\n",
        "import seaborn as sns\n",
        "fig, ax = plt.subplots(1, 1, figsize=(8, 8))\n",
        "sns.scatterplot(x='Sales', y='Profit', \n",
        "                data=combined_result_loss, \n",
        "                hue='prediction', \n",
        "                palette=\"deep\")"
      ],
      "metadata": {
        "colab": {
          "base_uri": "https://localhost:8080/",
          "height": 514
        },
        "id": "MWumtw4T06M5",
        "outputId": "956679dc-be6d-4b0f-af78-e11e3c06eb4f"
      },
      "execution_count": 98,
      "outputs": [
        {
          "output_type": "execute_result",
          "data": {
            "text/plain": [
              "<matplotlib.axes._subplots.AxesSubplot at 0x7fb7c1b78af0>"
            ]
          },
          "metadata": {},
          "execution_count": 98
        },
        {
          "output_type": "display_data",
          "data": {
            "text/plain": [
              "<Figure size 576x576 with 1 Axes>"
            ],
            "image/png": "[encoded data removed]"
          },
          "metadata": {
            "needs_background": "light"
          }
        }
      ]
    },
    {
      "cell_type": "code",
      "source": [
        "from pyspark.ml.clustering import KMeans\n",
        "from pyspark.ml.evaluation import ClusteringEvaluator\n",
        "\n",
        "silhouette_scores=[]\n",
        "evaluator = ClusteringEvaluator(featuresCol='features1', \\\n",
        "metricName='silhouette', distanceMeasure='squaredEuclidean')\n",
        "\n",
        "for K in range(2,6):\n",
        "\n",
        "    KMeans_loss=KMeans(featuresCol='features1', k=K)\n",
        "\n",
        "    KMeans_fit_loss=KMeans_loss.fit(asdloss)\n",
        "\n",
        "    KMeans_transform_loss = KMeans_fit_loss.transform(asdloss) \n",
        "\n",
        "    evaluation_score_loss = evaluator.evaluate(KMeans_transform_loss)\n",
        "\n",
        "    silhouette_scores.append(evaluation_score_loss)"
      ],
      "metadata": {
        "id": "z_kwoHfI06Pv"
      },
      "execution_count": 99,
      "outputs": []
    },
    {
      "cell_type": "code",
      "source": [
        "print(\"Silhouette Score:\",str(evaluation_score_loss))"
      ],
      "metadata": {
        "colab": {
          "base_uri": "https://localhost:8080/"
        },
        "id": "cX61r7HV06Sm",
        "outputId": "98f79eef-684a-4a54-d5da-43a56d7d8c19"
      },
      "execution_count": 100,
      "outputs": [
        {
          "output_type": "stream",
          "name": "stdout",
          "text": [
            "Silhouette Score: 0.8263710119504988\n"
          ]
        }
      ]
    },
    {
      "cell_type": "code",
      "source": [
        "centers_loss = KMeans_Model_loss.clusterCenters()\n",
        "print(centers_loss)"
      ],
      "metadata": {
        "colab": {
          "base_uri": "https://localhost:8080/"
        },
        "id": "jeWuYnZS06WU",
        "outputId": "cbc0fce6-06c1-401e-c395-0cbf1fcfb035"
      },
      "execution_count": 101,
      "outputs": [
        {
          "output_type": "stream",
          "name": "stdout",
          "text": [
            "[array([-35.31696073,  77.91218998]), array([-464.39294316, 1645.60204322]), array([-1869.58127241,  3761.95577931]), array([-200.72896617,  588.04453232])]\n"
          ]
        }
      ]
    },
    {
      "cell_type": "code",
      "source": [],
      "metadata": {
        "id": "HIukC2p906tw"
      },
      "execution_count": null,
      "outputs": []
    },
    {
      "cell_type": "code",
      "source": [],
      "metadata": {
        "id": "KWLMHWaBnQOT"
      },
      "execution_count": null,
      "outputs": []
    },
    {
      "cell_type": "code",
      "source": [],
      "metadata": {
        "id": "l1rDX9vxnQRC"
      },
      "execution_count": null,
      "outputs": []
    },
    {
      "cell_type": "code",
      "source": [],
      "metadata": {
        "id": "xafnTZYGnQUm"
      },
      "execution_count": null,
      "outputs": []
    },
    {
      "cell_type": "code",
      "source": [
        "from pyspark.ml.feature import StandardScaler\n",
        "\n",
        "scale=StandardScaler(inputCol='features',outputCol='standardized')\n",
        "data_scale = scale.fit(asd)\n",
        "\n",
        "data_scale_output = data_scale.transform(asd)\n",
        "data_scale_output.show()\n",
        "data_scale_output.printSchema()"
      ],
      "metadata": {
        "colab": {
          "base_uri": "https://localhost:8080/"
        },
        "id": "CkxyRew5yJlD",
        "outputId": "dd0d9192-9b4d-4940-dac6-38c7662aa339"
      },
      "execution_count": null,
      "outputs": [
        {
          "output_type": "stream",
          "name": "stdout",
          "text": [
            "+------+---------------+----------+----------+--------------+-----------+-----------------+-----------+-------------+---------------+-------------+------+------------+----------------+---------------+------------+--------------------+--------+--------+--------+--------+-------------+--------------+------------------+--------------------+\n",
            "|Row ID|       Order ID|Order Date| Ship Date|     Ship Mode|Customer ID|    Customer Name|    Segment|         City|          State|      Country|Market|      Region|      Product ID|       Category|Sub-Category|        Product Name|   Sales|Quantity|Discount|  Profit|Shipping Cost|Order Priority|          features|        standardized|\n",
            "+------+---------------+----------+----------+--------------+-----------+-----------------+-----------+-------------+---------------+-------------+------+------------+----------------+---------------+------------+--------------------+--------+--------+--------+--------+-------------+--------------+------------------+--------------------+\n",
            "| 32298| CA-2012-124891|31-07-2012|31-07-2012|      Same Day|   RH-19495|      Rick Hansen|   Consumer|New York City|       New York|United States|    US|        East| TEC-AC-10003033|     Technology| Accessories|Plantronics CS510...| 2309.65|       7|       0|762.1845|       933.57|      Critical|[762.1845,2309.65]|[4.81606362211248...|\n",
            "| 25330|  IN-2013-71249|17-10-2013|18-10-2013|   First Class|   CR-12730|     Craig Reiter|   Consumer|     Brisbane|     Queensland|    Australia|  APAC|     Oceania| TEC-PH-10004664|     Technology|      Phones|Nokia Smart Phone...|5175.171|       9|     0.1| 919.971|       915.49|        Medium|[919.971,5175.171]|[5.81307920391774...|\n",
            "| 47221|   SG-2013-4320|05-11-2013|06-11-2013|      Same Day|    RH-9495|      Rick Hansen|   Consumer|        Dakar|          Dakar|      Senegal|Africa|      Africa|TEC-SHA-10000501|     Technology|     Copiers|Sharp Wireless Fa...| 2832.96|       8|       0|  311.52|       903.04|      Critical|  [311.52,2832.96]|[1.96842121502140...|\n",
            "| 22732|  IN-2013-42360|28-06-2013|01-07-2013|  Second Class|   JM-15655|      Jim Mitchum|  Corporate|       Sydney|New South Wales|    Australia|  APAC|     Oceania| TEC-PH-10000030|     Technology|      Phones|Samsung Smart Pho...|2862.675|       5|     0.1| 763.275|       897.35|      Critical|[763.275,2862.675]|[4.82295423374249...|\n",
            "| 30570|  IN-2011-81826|07-11-2011|09-11-2011|   First Class|   TS-21340|    Toby Swindell|   Consumer|      Porirua|     Wellington|  New Zealand|  APAC|     Oceania| FUR-CH-10004050|      Furniture|      Chairs|Novimex Executive...| 1822.08|       4|       0|  564.84|       894.77|      Critical|  [564.84,1822.08]|[3.56909039256770...|\n",
            "| 31192|  IN-2012-86369|14-04-2012|18-04-2012|Standard Class|   MB-18085|       Mick Brown|   Consumer|     Hamilton|        Waikato|  New Zealand|  APAC|     Oceania| FUR-TA-10002958|      Furniture|      Tables|Chromcraft Confer...| 5244.84|       6|       0|  996.48|       878.38|          High|  [996.48,5244.84]|[6.29652148287278...|\n",
            "| 40155| CA-2014-135909|14-10-2014|21-10-2014|Standard Class|   JW-15220|        Jane Waco|  Corporate|   Sacramento|     California|United States|    US|        West| OFF-BI-10003527|Office Supplies|     Binders|Fellowes PB500 El...| 5083.96|       5|     0.2|1906.485|       867.69|           Low|[1906.485,5083.96]|[12.0466278894455...|\n",
            "| 34577| CA-2011-102988|05-04-2011|09-04-2011|  Second Class|   GM-14695|     Greg Maxwell|  Corporate|   Alexandria|       Virginia|United States|    US|       South| OFF-SU-10002881|Office Supplies|    Supplies|Martin Yale Chadl...| 4164.05|       5|       0|  83.281|       846.54|          High|  [83.281,4164.05]|[0.52623294558358...|\n",
            "| 28879|  ID-2012-28402|19-04-2012|22-04-2012|   First Class|   AJ-10780|   Anthony Jacobs|  Corporate|        Kabul|          Kabul|  Afghanistan|  APAC|Central Asia| FUR-TA-10001889|      Furniture|      Tables|Bevis Conference ...| 4626.15|       5|       0|  647.55|       835.57|          High|  [647.55,4626.15]|[4.09171532417536...|\n",
            "| 45794|   SA-2011-1830|27-12-2011|29-12-2011|  Second Class|    MM-7260|  Magdelene Morse|   Consumer|        Jizan|          Jizan| Saudi Arabia|  EMEA|        EMEA|TEC-CIS-10001717|     Technology|      Phones|Cisco Smart Phone...| 2616.96|       4|       0|  1151.4|       832.41|      Critical|  [1151.4,2616.96]|[7.27542432901786...|\n",
            "|  4132| MX-2012-130015|13-11-2012|13-11-2012|      Same Day|   VF-21715|   Vicky Freymann|Home Office|       Toledo|         Parana|       Brazil| LATAM|       South| FUR-CH-10002033|      Furniture|      Chairs|Harbour Creations...|  2221.8|       7|       0|  622.02|       810.25|      Critical|   [622.02,2221.8]|[3.9303972912417,...|\n",
            "| 27704|  IN-2013-73951|06-06-2013|08-06-2013|  Second Class|   PF-19120|     Peter Fuller|   Consumer|   Mudanjiang|   Heilongjiang|        China|  APAC|  North Asia| OFF-AP-10003500|Office Supplies|  Appliances|KitchenAid Microw...| 3701.52|      12|       0| 1036.08|       804.54|      Critical| [1036.08,3701.52]|[6.54674451868058...|\n",
            "| 13779|ES-2014-5099955|31-07-2014|03-08-2014|  Second Class|   BP-11185|     Ben Peterman|  Corporate|        Paris|  Ile-de-France|       France|    EU|     Central| OFF-AP-10000423|Office Supplies|  Appliances|Breville Refriger...|1869.588|       4|     0.1| 186.948|       801.66|      Critical|[186.948,1869.588]|[1.18128020449994...|\n",
            "| 36178| CA-2014-143567|03-11-2014|06-11-2014|  Second Class|   TB-21175|    Thomas Boland|  Corporate|    Henderson|       Kentucky|United States|    US|       South| TEC-AC-10004145|     Technology| Accessories|Logitech diNovo E...| 2249.91|       9|       0|517.4793|        780.7|      Critical|[517.4793,2249.91]|[3.26982932862874...|\n",
            "| 12069|ES-2014-1651774|08-09-2014|14-09-2014|Standard Class|   PJ-18835|    Patrick Jones|  Corporate|        Prato|        Tuscany|        Italy|    EU|       South| OFF-AP-10004512|Office Supplies|  Appliances|   Hoover Stove, Red| 7958.58|      14|       0| 3979.08|       778.32|           Low| [3979.08,7958.58]|[25.1428655889425...|\n",
            "| 22096|  IN-2014-11763|31-01-2014|01-02-2014|   First Class|   JS-15685|         Jim Sink|  Corporate|   Townsville|     Queensland|    Australia|  APAC|     Oceania| TEC-CO-10000865|     Technology|     Copiers|Brother Fax Machi...|2565.594|       9|     0.1|  28.404|       766.93|      Critical| [28.404,2565.594]|[0.17947815932032...|\n",
            "| 49463|   TZ-2014-8190|05-12-2014|07-12-2014|  Second Class|    RH-9555|  Ritsa Hightower|   Consumer|       Uvinza|         Kigoma|     Tanzania|Africa|      Africa|OFF-KIT-10004058|Office Supplies|  Appliances|KitchenAid Stove,...| 3409.74|       6|       0|  818.28|       763.38|          High|  [818.28,3409.74]|[5.17051782173765...|\n",
            "| 46630|   PL-2012-7820|08-08-2012|10-08-2012|   First Class|     AB-600|        Ann Blume|  Corporate|        Bytom|        Silesia|       Poland|  EMEA|        EMEA|FUR-HON-10000224|      Furniture|      Tables|Hon Computer Tabl...| 1977.72|       4|       0|  276.84|       759.47|      Critical|  [276.84,1977.72]|[1.74928649578365...|\n",
            "| 31784| CA-2011-154627|29-10-2011|31-10-2011|   First Class|   SA-20830|     Sue Ann Reed|   Consumer|      Chicago|       Illinois|United States|    US|     Central| TEC-PH-10001363|     Technology|      Phones|     Apple iPhone 5S|2735.952|       6|     0.2| 341.994|       752.51|          High|[341.994,2735.952]|[2.16097921484986...|\n",
            "| 21586|  IN-2011-44803|02-05-2011|03-05-2011|   First Class|   JK-15325|Jason Klamczynski|  Corporate|       Suzhou|          Anhui|        China|  APAC|  North Asia| FUR-CH-10000027|      Furniture|      Chairs|SAFCO Executive L...|  2754.0|       6|       0|  358.02|       752.47|      Critical|   [358.02,2754.0]|[2.26224371918966...|\n",
            "+------+---------------+----------+----------+--------------+-----------+-----------------+-----------+-------------+---------------+-------------+------+------------+----------------+---------------+------------+--------------------+--------+--------+--------+--------+-------------+--------------+------------------+--------------------+\n",
            "only showing top 20 rows\n",
            "\n",
            "root\n",
            " |-- Row ID: integer (nullable = true)\n",
            " |-- Order ID: string (nullable = true)\n",
            " |-- Order Date: string (nullable = true)\n",
            " |-- Ship Date: string (nullable = true)\n",
            " |-- Ship Mode: string (nullable = true)\n",
            " |-- Customer ID: string (nullable = true)\n",
            " |-- Customer Name: string (nullable = true)\n",
            " |-- Segment: string (nullable = true)\n",
            " |-- City: string (nullable = true)\n",
            " |-- State: string (nullable = true)\n",
            " |-- Country: string (nullable = true)\n",
            " |-- Market: string (nullable = true)\n",
            " |-- Region: string (nullable = true)\n",
            " |-- Product ID: string (nullable = true)\n",
            " |-- Category: string (nullable = true)\n",
            " |-- Sub-Category: string (nullable = true)\n",
            " |-- Product Name: string (nullable = true)\n",
            " |-- Sales: double (nullable = true)\n",
            " |-- Quantity: string (nullable = true)\n",
            " |-- Discount: string (nullable = true)\n",
            " |-- Profit: double (nullable = true)\n",
            " |-- Shipping Cost: double (nullable = true)\n",
            " |-- Order Priority: string (nullable = true)\n",
            " |-- features: vector (nullable = true)\n",
            " |-- standardized: vector (nullable = true)\n",
            "\n"
          ]
        }
      ]
    },
    {
      "cell_type": "code",
      "source": [
        "from pyspark.ml.clustering import KMeans\n",
        "from pyspark.ml.evaluation import ClusteringEvaluator\n",
        "\n",
        "silhouette_scores=[]\n",
        "evaluator = ClusteringEvaluator(featuresCol='features', \\\n",
        "metricName='silhouette', distanceMeasure='squaredEuclidean')\n",
        "\n",
        "for K in range(2,6):\n",
        "\n",
        "    KMeans_=KMeans(featuresCol='features', k=K)\n",
        "\n",
        "    KMeans_fit=KMeans_.fit(data_scale_output)\n",
        "\n",
        "    KMeans_transform=KMeans_fit.transform(data_scale_output) \n",
        "\n",
        "    evaluation_score=evaluator.evaluate(KMeans_transform)\n",
        "\n",
        "    silhouette_scores.append(evaluation_score)\n",
        "\n",
        "    print(\"Silhouette Score:\",evaluation_score)"
      ],
      "metadata": {
        "id": "dZZpDvoM9blY",
        "colab": {
          "base_uri": "https://localhost:8080/"
        },
        "outputId": "8c130470-65d9-41ec-b4b0-c86793fe390d"
      },
      "execution_count": null,
      "outputs": [
        {
          "output_type": "stream",
          "name": "stdout",
          "text": [
            "Silhouette Score: 0.9292996360965639\n",
            "Silhouette Score: 0.890289895615105\n",
            "Silhouette Score: 0.8783428068066612\n",
            "Silhouette Score: 0.8591295860619125\n"
          ]
        }
      ]
    },
    {
      "cell_type": "code",
      "source": [
        "#Visualizing the silhouette scores in a plot\n",
        "import matplotlib.pyplot as plt\n",
        "fig, ax = plt.subplots(1,1, figsize =(8,6))\n",
        "ax.plot(range(2,6),silhouette_scores)\n",
        "#ax.set_xlabel(‘Profit’)\n",
        "#ax.set_ylabel(‘cost’)"
      ],
      "metadata": {
        "colab": {
          "base_uri": "https://localhost:8080/",
          "height": 391
        },
        "id": "KopXg_6kRVN8",
        "outputId": "f312527b-45c3-4f4f-ade7-a71c633a7aef"
      },
      "execution_count": null,
      "outputs": [
        {
          "output_type": "execute_result",
          "data": {
            "text/plain": [
              "[<matplotlib.lines.Line2D at 0x7f1f8d1759a0>]"
            ]
          },
          "metadata": {},
          "execution_count": 112
        },
        {
          "output_type": "display_data",
          "data": {
            "text/plain": [
              "<Figure size 576x432 with 1 Axes>"
            ],
            "image/png": "[encoded data removed]"
          },
          "metadata": {
            "needs_background": "light"
          }
        }
      ]
    },
    {
      "cell_type": "code",
      "source": [
        "KMeans_=KMeans(featuresCol='features', k=3) \n",
        "KMeans_Model=KMeans_.fit(data_scale_output)\n",
        "KMeans_Assignments=KMeans_Model.transform(data_scale_output)"
      ],
      "metadata": {
        "id": "0295nO3KUS5m"
      },
      "execution_count": null,
      "outputs": []
    },
    {
      "cell_type": "code",
      "source": [
        "KMeans_Assignments.show()"
      ],
      "metadata": {
        "colab": {
          "base_uri": "https://localhost:8080/"
        },
        "id": "6G5P9iheZ40H",
        "outputId": "6ba68a9c-5211-4074-ca71-dec0ca4b5ba1"
      },
      "execution_count": null,
      "outputs": [
        {
          "output_type": "stream",
          "name": "stdout",
          "text": [
            "+------+---------------+----------+----------+--------------+-----------+-----------------+-----------+-------------+---------------+-------------+------+------------+----------------+---------------+------------+--------------------+--------+--------+--------+--------+-------------+--------------+------------------+--------------------+----------+\n",
            "|Row ID|       Order ID|Order Date| Ship Date|     Ship Mode|Customer ID|    Customer Name|    Segment|         City|          State|      Country|Market|      Region|      Product ID|       Category|Sub-Category|        Product Name|   Sales|Quantity|Discount|  Profit|Shipping Cost|Order Priority|          features|        standardized|prediction|\n",
            "+------+---------------+----------+----------+--------------+-----------+-----------------+-----------+-------------+---------------+-------------+------+------------+----------------+---------------+------------+--------------------+--------+--------+--------+--------+-------------+--------------+------------------+--------------------+----------+\n",
            "| 32298| CA-2012-124891|31-07-2012|31-07-2012|      Same Day|   RH-19495|      Rick Hansen|   Consumer|New York City|       New York|United States|    US|        East| TEC-AC-10003033|     Technology| Accessories|Plantronics CS510...| 2309.65|       7|       0|762.1845|       933.57|      Critical|[762.1845,2309.65]|[4.81606362211248...|         2|\n",
            "| 25330|  IN-2013-71249|17-10-2013|18-10-2013|   First Class|   CR-12730|     Craig Reiter|   Consumer|     Brisbane|     Queensland|    Australia|  APAC|     Oceania| TEC-PH-10004664|     Technology|      Phones|Nokia Smart Phone...|5175.171|       9|     0.1| 919.971|       915.49|        Medium|[919.971,5175.171]|[5.81307920391774...|         2|\n",
            "| 47221|   SG-2013-4320|05-11-2013|06-11-2013|      Same Day|    RH-9495|      Rick Hansen|   Consumer|        Dakar|          Dakar|      Senegal|Africa|      Africa|TEC-SHA-10000501|     Technology|     Copiers|Sharp Wireless Fa...| 2832.96|       8|       0|  311.52|       903.04|      Critical|  [311.52,2832.96]|[1.96842121502140...|         2|\n",
            "| 22732|  IN-2013-42360|28-06-2013|01-07-2013|  Second Class|   JM-15655|      Jim Mitchum|  Corporate|       Sydney|New South Wales|    Australia|  APAC|     Oceania| TEC-PH-10000030|     Technology|      Phones|Samsung Smart Pho...|2862.675|       5|     0.1| 763.275|       897.35|      Critical|[763.275,2862.675]|[4.82295423374249...|         2|\n",
            "| 30570|  IN-2011-81826|07-11-2011|09-11-2011|   First Class|   TS-21340|    Toby Swindell|   Consumer|      Porirua|     Wellington|  New Zealand|  APAC|     Oceania| FUR-CH-10004050|      Furniture|      Chairs|Novimex Executive...| 1822.08|       4|       0|  564.84|       894.77|      Critical|  [564.84,1822.08]|[3.56909039256770...|         0|\n",
            "| 31192|  IN-2012-86369|14-04-2012|18-04-2012|Standard Class|   MB-18085|       Mick Brown|   Consumer|     Hamilton|        Waikato|  New Zealand|  APAC|     Oceania| FUR-TA-10002958|      Furniture|      Tables|Chromcraft Confer...| 5244.84|       6|       0|  996.48|       878.38|          High|  [996.48,5244.84]|[6.29652148287278...|         2|\n",
            "| 40155| CA-2014-135909|14-10-2014|21-10-2014|Standard Class|   JW-15220|        Jane Waco|  Corporate|   Sacramento|     California|United States|    US|        West| OFF-BI-10003527|Office Supplies|     Binders|Fellowes PB500 El...| 5083.96|       5|     0.2|1906.485|       867.69|           Low|[1906.485,5083.96]|[12.0466278894455...|         2|\n",
            "| 34577| CA-2011-102988|05-04-2011|09-04-2011|  Second Class|   GM-14695|     Greg Maxwell|  Corporate|   Alexandria|       Virginia|United States|    US|       South| OFF-SU-10002881|Office Supplies|    Supplies|Martin Yale Chadl...| 4164.05|       5|       0|  83.281|       846.54|          High|  [83.281,4164.05]|[0.52623294558358...|         2|\n",
            "| 28879|  ID-2012-28402|19-04-2012|22-04-2012|   First Class|   AJ-10780|   Anthony Jacobs|  Corporate|        Kabul|          Kabul|  Afghanistan|  APAC|Central Asia| FUR-TA-10001889|      Furniture|      Tables|Bevis Conference ...| 4626.15|       5|       0|  647.55|       835.57|          High|  [647.55,4626.15]|[4.09171532417536...|         2|\n",
            "| 45794|   SA-2011-1830|27-12-2011|29-12-2011|  Second Class|    MM-7260|  Magdelene Morse|   Consumer|        Jizan|          Jizan| Saudi Arabia|  EMEA|        EMEA|TEC-CIS-10001717|     Technology|      Phones|Cisco Smart Phone...| 2616.96|       4|       0|  1151.4|       832.41|      Critical|  [1151.4,2616.96]|[7.27542432901786...|         2|\n",
            "|  4132| MX-2012-130015|13-11-2012|13-11-2012|      Same Day|   VF-21715|   Vicky Freymann|Home Office|       Toledo|         Parana|       Brazil| LATAM|       South| FUR-CH-10002033|      Furniture|      Chairs|Harbour Creations...|  2221.8|       7|       0|  622.02|       810.25|      Critical|   [622.02,2221.8]|[3.9303972912417,...|         2|\n",
            "| 27704|  IN-2013-73951|06-06-2013|08-06-2013|  Second Class|   PF-19120|     Peter Fuller|   Consumer|   Mudanjiang|   Heilongjiang|        China|  APAC|  North Asia| OFF-AP-10003500|Office Supplies|  Appliances|KitchenAid Microw...| 3701.52|      12|       0| 1036.08|       804.54|      Critical| [1036.08,3701.52]|[6.54674451868058...|         2|\n",
            "| 13779|ES-2014-5099955|31-07-2014|03-08-2014|  Second Class|   BP-11185|     Ben Peterman|  Corporate|        Paris|  Ile-de-France|       France|    EU|     Central| OFF-AP-10000423|Office Supplies|  Appliances|Breville Refriger...|1869.588|       4|     0.1| 186.948|       801.66|      Critical|[186.948,1869.588]|[1.18128020449994...|         0|\n",
            "| 36178| CA-2014-143567|03-11-2014|06-11-2014|  Second Class|   TB-21175|    Thomas Boland|  Corporate|    Henderson|       Kentucky|United States|    US|       South| TEC-AC-10004145|     Technology| Accessories|Logitech diNovo E...| 2249.91|       9|       0|517.4793|        780.7|      Critical|[517.4793,2249.91]|[3.26982932862874...|         2|\n",
            "| 12069|ES-2014-1651774|08-09-2014|14-09-2014|Standard Class|   PJ-18835|    Patrick Jones|  Corporate|        Prato|        Tuscany|        Italy|    EU|       South| OFF-AP-10004512|Office Supplies|  Appliances|   Hoover Stove, Red| 7958.58|      14|       0| 3979.08|       778.32|           Low| [3979.08,7958.58]|[25.1428655889425...|         2|\n",
            "| 22096|  IN-2014-11763|31-01-2014|01-02-2014|   First Class|   JS-15685|         Jim Sink|  Corporate|   Townsville|     Queensland|    Australia|  APAC|     Oceania| TEC-CO-10000865|     Technology|     Copiers|Brother Fax Machi...|2565.594|       9|     0.1|  28.404|       766.93|      Critical| [28.404,2565.594]|[0.17947815932032...|         2|\n",
            "| 49463|   TZ-2014-8190|05-12-2014|07-12-2014|  Second Class|    RH-9555|  Ritsa Hightower|   Consumer|       Uvinza|         Kigoma|     Tanzania|Africa|      Africa|OFF-KIT-10004058|Office Supplies|  Appliances|KitchenAid Stove,...| 3409.74|       6|       0|  818.28|       763.38|          High|  [818.28,3409.74]|[5.17051782173765...|         2|\n",
            "| 46630|   PL-2012-7820|08-08-2012|10-08-2012|   First Class|     AB-600|        Ann Blume|  Corporate|        Bytom|        Silesia|       Poland|  EMEA|        EMEA|FUR-HON-10000224|      Furniture|      Tables|Hon Computer Tabl...| 1977.72|       4|       0|  276.84|       759.47|      Critical|  [276.84,1977.72]|[1.74928649578365...|         0|\n",
            "| 31784| CA-2011-154627|29-10-2011|31-10-2011|   First Class|   SA-20830|     Sue Ann Reed|   Consumer|      Chicago|       Illinois|United States|    US|     Central| TEC-PH-10001363|     Technology|      Phones|     Apple iPhone 5S|2735.952|       6|     0.2| 341.994|       752.51|          High|[341.994,2735.952]|[2.16097921484986...|         2|\n",
            "| 21586|  IN-2011-44803|02-05-2011|03-05-2011|   First Class|   JK-15325|Jason Klamczynski|  Corporate|       Suzhou|          Anhui|        China|  APAC|  North Asia| FUR-CH-10000027|      Furniture|      Chairs|SAFCO Executive L...|  2754.0|       6|       0|  358.02|       752.47|      Critical|   [358.02,2754.0]|[2.26224371918966...|         2|\n",
            "+------+---------------+----------+----------+--------------+-----------+-----------------+-----------+-------------+---------------+-------------+------+------------+----------------+---------------+------------+--------------------+--------+--------+--------+--------+-------------+--------------+------------------+--------------------+----------+\n",
            "only showing top 20 rows\n",
            "\n"
          ]
        }
      ]
    },
    {
      "cell_type": "code",
      "source": [
        "combined_result = KMeans_Assignments.select(\"Order ID\",\"Profit\", \"Sales\", \"Discount\", \"Shipping Cost\", \"Quantity\",\"prediction\")\n",
        "combined_result.show()"
      ],
      "metadata": {
        "id": "4Lam3wj_clhH",
        "colab": {
          "base_uri": "https://localhost:8080/"
        },
        "outputId": "ddd5adff-cb3c-4fb9-9ade-71ab69f25f9f"
      },
      "execution_count": null,
      "outputs": [
        {
          "output_type": "stream",
          "name": "stdout",
          "text": [
            "+---------------+--------+--------+--------+-------------+--------+----------+\n",
            "|       Order ID|  Profit|   Sales|Discount|Shipping Cost|Quantity|prediction|\n",
            "+---------------+--------+--------+--------+-------------+--------+----------+\n",
            "| CA-2012-124891|762.1845| 2309.65|       0|       933.57|       7|         2|\n",
            "|  IN-2013-71249| 919.971|5175.171|     0.1|       915.49|       9|         2|\n",
            "|   SG-2013-4320|  311.52| 2832.96|       0|       903.04|       8|         2|\n",
            "|  IN-2013-42360| 763.275|2862.675|     0.1|       897.35|       5|         2|\n",
            "|  IN-2011-81826|  564.84| 1822.08|       0|       894.77|       4|         0|\n",
            "|  IN-2012-86369|  996.48| 5244.84|       0|       878.38|       6|         2|\n",
            "| CA-2014-135909|1906.485| 5083.96|     0.2|       867.69|       5|         2|\n",
            "| CA-2011-102988|  83.281| 4164.05|       0|       846.54|       5|         2|\n",
            "|  ID-2012-28402|  647.55| 4626.15|       0|       835.57|       5|         2|\n",
            "|   SA-2011-1830|  1151.4| 2616.96|       0|       832.41|       4|         2|\n",
            "| MX-2012-130015|  622.02|  2221.8|       0|       810.25|       7|         2|\n",
            "|  IN-2013-73951| 1036.08| 3701.52|       0|       804.54|      12|         2|\n",
            "|ES-2014-5099955| 186.948|1869.588|     0.1|       801.66|       4|         0|\n",
            "| CA-2014-143567|517.4793| 2249.91|       0|        780.7|       9|         2|\n",
            "|ES-2014-1651774| 3979.08| 7958.58|       0|       778.32|      14|         2|\n",
            "|  IN-2014-11763|  28.404|2565.594|     0.1|       766.93|       9|         2|\n",
            "|   TZ-2014-8190|  818.28| 3409.74|       0|       763.38|       6|         2|\n",
            "|   PL-2012-7820|  276.84| 1977.72|       0|       759.47|       4|         0|\n",
            "| CA-2011-154627| 341.994|2735.952|     0.2|       752.51|       6|         2|\n",
            "|  IN-2011-44803|  358.02|  2754.0|       0|       752.47|       6|         2|\n",
            "+---------------+--------+--------+--------+-------------+--------+----------+\n",
            "only showing top 20 rows\n",
            "\n"
          ]
        }
      ]
    },
    {
      "cell_type": "code",
      "source": [
        "combined_result = combined_result.toPandas()\n"
      ],
      "metadata": {
        "colab": {
          "base_uri": "https://localhost:8080/",
          "height": 304
        },
        "id": "WqxkpaFmdyoZ",
        "outputId": "7d0d7eed-26b1-42d3-c612-2d06a0dd2a07"
      },
      "execution_count": null,
      "outputs": [
        {
          "output_type": "error",
          "ename": "AttributeError",
          "evalue": "ignored",
          "traceback": [
            "\u001b[0;31m---------------------------------------------------------------------------\u001b[0m",
            "\u001b[0;31mAttributeError\u001b[0m                            Traceback (most recent call last)",
            "\u001b[0;32m<ipython-input-126-2c5aed859ba4>\u001b[0m in \u001b[0;36m<module>\u001b[0;34m\u001b[0m\n\u001b[0;32m----> 1\u001b[0;31m \u001b[0mcombined_result\u001b[0m \u001b[0;34m=\u001b[0m \u001b[0mcombined_result\u001b[0m\u001b[0;34m.\u001b[0m\u001b[0mtoPandas\u001b[0m\u001b[0;34m(\u001b[0m\u001b[0;34m)\u001b[0m\u001b[0;34m\u001b[0m\u001b[0;34m\u001b[0m\u001b[0m\n\u001b[0m\u001b[1;32m      2\u001b[0m \u001b[0mdata_scale_output\u001b[0m \u001b[0;34m=\u001b[0m \u001b[0mdata_scale_output\u001b[0m\u001b[0;34m.\u001b[0m\u001b[0mtoPandas\u001b[0m\u001b[0;34m(\u001b[0m\u001b[0;34m)\u001b[0m\u001b[0;34m\u001b[0m\u001b[0;34m\u001b[0m\u001b[0m\n",
            "\u001b[0;32m/usr/local/lib/python3.8/dist-packages/pandas/core/generic.py\u001b[0m in \u001b[0;36m__getattr__\u001b[0;34m(self, name)\u001b[0m\n\u001b[1;32m   5485\u001b[0m         ):\n\u001b[1;32m   5486\u001b[0m             \u001b[0;32mreturn\u001b[0m \u001b[0mself\u001b[0m\u001b[0;34m[\u001b[0m\u001b[0mname\u001b[0m\u001b[0;34m]\u001b[0m\u001b[0;34m\u001b[0m\u001b[0;34m\u001b[0m\u001b[0m\n\u001b[0;32m-> 5487\u001b[0;31m         \u001b[0;32mreturn\u001b[0m \u001b[0mobject\u001b[0m\u001b[0;34m.\u001b[0m\u001b[0m__getattribute__\u001b[0m\u001b[0;34m(\u001b[0m\u001b[0mself\u001b[0m\u001b[0;34m,\u001b[0m \u001b[0mname\u001b[0m\u001b[0;34m)\u001b[0m\u001b[0;34m\u001b[0m\u001b[0;34m\u001b[0m\u001b[0m\n\u001b[0m\u001b[1;32m   5488\u001b[0m \u001b[0;34m\u001b[0m\u001b[0m\n\u001b[1;32m   5489\u001b[0m     \u001b[0;32mdef\u001b[0m \u001b[0m__setattr__\u001b[0m\u001b[0;34m(\u001b[0m\u001b[0mself\u001b[0m\u001b[0;34m,\u001b[0m \u001b[0mname\u001b[0m\u001b[0;34m:\u001b[0m \u001b[0mstr\u001b[0m\u001b[0;34m,\u001b[0m \u001b[0mvalue\u001b[0m\u001b[0;34m)\u001b[0m \u001b[0;34m->\u001b[0m \u001b[0;32mNone\u001b[0m\u001b[0;34m:\u001b[0m\u001b[0;34m\u001b[0m\u001b[0;34m\u001b[0m\u001b[0m\n",
            "\u001b[0;31mAttributeError\u001b[0m: 'DataFrame' object has no attribute 'toPandas'"
          ]
        }
      ]
    },
    {
      "cell_type": "code",
      "source": [
        "import seaborn as sns\n",
        "fig, ax = plt.subplots(1, 1, figsize=(8, 8))\n",
        "sns.scatterplot(x='Sales', y='Profit', \n",
        "                data=combined_result, \n",
        "                hue='prediction', \n",
        "                palette=\"deep\")"
      ],
      "metadata": {
        "colab": {
          "base_uri": "https://localhost:8080/",
          "height": 514
        },
        "id": "znCfD3wQVyp5",
        "outputId": "e37194e5-ecc3-451c-a765-669951f53f65"
      },
      "execution_count": null,
      "outputs": [
        {
          "output_type": "execute_result",
          "data": {
            "text/plain": [
              "<matplotlib.axes._subplots.AxesSubplot at 0x7f1f94344df0>"
            ]
          },
          "metadata": {},
          "execution_count": 117
        },
        {
          "output_type": "display_data",
          "data": {
            "text/plain": [
              "<Figure size 576x576 with 1 Axes>"
            ],
            "image/png": "[encoded data removed]"
          },
          "metadata": {
            "needs_background": "light"
          }
        }
      ]
    },
    {
      "cell_type": "code",
      "source": [
        "centers = KMeans_Model.clusterCenters()\n",
        "print(centers)"
      ],
      "metadata": {
        "colab": {
          "base_uri": "https://localhost:8080/"
        },
        "id": "hWnrM6vchIq4",
        "outputId": "83f1b7a5-dff9-401d-e13c-416d85e96b10"
      },
      "execution_count": null,
      "outputs": [
        {
          "output_type": "stream",
          "name": "stdout",
          "text": [
            "[array([ 240.86919319, 1040.9904893 ]), array([ 30.26032884, 127.05588139]), array([ 844.15092903, 3263.01650219])]\n"
          ]
        }
      ]
    },
    {
      "cell_type": "code",
      "source": [
        "from sklearn.cluster import KMeans\n",
        "Sum_of_squared_distances = []\n",
        "K = range(1,15)\n",
        "for k in K:\n",
        "    km = KMeans(n_clusters=k)\n",
        "    km = KMeans_.fit(data_scale_output)\n",
        "   \n"
      ],
      "metadata": {
        "id": "YE23v2vnb6oe"
      },
      "execution_count": null,
      "outputs": []
    },
    {
      "cell_type": "code",
      "source": [
        "combined_result = combined_result.drop('prediction')"
      ],
      "metadata": {
        "colab": {
          "base_uri": "https://localhost:8080/",
          "height": 311
        },
        "id": "OA88Ek2ofb93",
        "outputId": "f811c935-021d-49b5-9305-e1be31772b8d"
      },
      "execution_count": null,
      "outputs": [
        {
          "output_type": "error",
          "ename": "KeyError",
          "evalue": "ignored",
          "traceback": [
            "\u001b[0;31m---------------------------------------------------------------------------\u001b[0m",
            "\u001b[0;31mKeyError\u001b[0m                                  Traceback (most recent call last)",
            "\u001b[0;32m<ipython-input-130-c404cf5dcf7b>\u001b[0m in \u001b[0;36m<module>\u001b[0;34m\u001b[0m\n\u001b[0;32m----> 1\u001b[0;31m \u001b[0mcombined_result\u001b[0m \u001b[0;34m=\u001b[0m \u001b[0mcombined_result\u001b[0m\u001b[0;34m.\u001b[0m\u001b[0mdrop\u001b[0m\u001b[0;34m(\u001b[0m\u001b[0;34m'prediction'\u001b[0m\u001b[0;34m)\u001b[0m\u001b[0;34m\u001b[0m\u001b[0;34m\u001b[0m\u001b[0m\n\u001b[0m",
            "\u001b[0;32m/usr/local/lib/python3.8/dist-packages/pandas/util/_decorators.py\u001b[0m in \u001b[0;36mwrapper\u001b[0;34m(*args, **kwargs)\u001b[0m\n\u001b[1;32m    309\u001b[0m                     \u001b[0mstacklevel\u001b[0m\u001b[0;34m=\u001b[0m\u001b[0mstacklevel\u001b[0m\u001b[0;34m,\u001b[0m\u001b[0;34m\u001b[0m\u001b[0;34m\u001b[0m\u001b[0m\n\u001b[1;32m    310\u001b[0m                 )\n\u001b[0;32m--> 311\u001b[0;31m             \u001b[0;32mreturn\u001b[0m \u001b[0mfunc\u001b[0m\u001b[0;34m(\u001b[0m\u001b[0;34m*\u001b[0m\u001b[0margs\u001b[0m\u001b[0;34m,\u001b[0m \u001b[0;34m**\u001b[0m\u001b[0mkwargs\u001b[0m\u001b[0;34m)\u001b[0m\u001b[0;34m\u001b[0m\u001b[0;34m\u001b[0m\u001b[0m\n\u001b[0m\u001b[1;32m    312\u001b[0m \u001b[0;34m\u001b[0m\u001b[0m\n\u001b[1;32m    313\u001b[0m         \u001b[0;32mreturn\u001b[0m \u001b[0mwrapper\u001b[0m\u001b[0;34m\u001b[0m\u001b[0;34m\u001b[0m\u001b[0m\n",
            "\u001b[0;32m/usr/local/lib/python3.8/dist-packages/pandas/core/frame.py\u001b[0m in \u001b[0;36mdrop\u001b[0;34m(self, labels, axis, index, columns, level, inplace, errors)\u001b[0m\n\u001b[1;32m   4904\u001b[0m                 \u001b[0mweight\u001b[0m  \u001b[0;36m1.0\u001b[0m     \u001b[0;36m0.8\u001b[0m\u001b[0;34m\u001b[0m\u001b[0;34m\u001b[0m\u001b[0m\n\u001b[1;32m   4905\u001b[0m         \"\"\"\n\u001b[0;32m-> 4906\u001b[0;31m         return super().drop(\n\u001b[0m\u001b[1;32m   4907\u001b[0m             \u001b[0mlabels\u001b[0m\u001b[0;34m=\u001b[0m\u001b[0mlabels\u001b[0m\u001b[0;34m,\u001b[0m\u001b[0;34m\u001b[0m\u001b[0;34m\u001b[0m\u001b[0m\n\u001b[1;32m   4908\u001b[0m             \u001b[0maxis\u001b[0m\u001b[0;34m=\u001b[0m\u001b[0maxis\u001b[0m\u001b[0;34m,\u001b[0m\u001b[0;34m\u001b[0m\u001b[0;34m\u001b[0m\u001b[0m\n",
            "\u001b[0;32m/usr/local/lib/python3.8/dist-packages/pandas/core/generic.py\u001b[0m in \u001b[0;36mdrop\u001b[0;34m(self, labels, axis, index, columns, level, inplace, errors)\u001b[0m\n\u001b[1;32m   4148\u001b[0m         \u001b[0;32mfor\u001b[0m \u001b[0maxis\u001b[0m\u001b[0;34m,\u001b[0m \u001b[0mlabels\u001b[0m \u001b[0;32min\u001b[0m \u001b[0maxes\u001b[0m\u001b[0;34m.\u001b[0m\u001b[0mitems\u001b[0m\u001b[0;34m(\u001b[0m\u001b[0;34m)\u001b[0m\u001b[0;34m:\u001b[0m\u001b[0;34m\u001b[0m\u001b[0;34m\u001b[0m\u001b[0m\n\u001b[1;32m   4149\u001b[0m             \u001b[0;32mif\u001b[0m \u001b[0mlabels\u001b[0m \u001b[0;32mis\u001b[0m \u001b[0;32mnot\u001b[0m \u001b[0;32mNone\u001b[0m\u001b[0;34m:\u001b[0m\u001b[0;34m\u001b[0m\u001b[0;34m\u001b[0m\u001b[0m\n\u001b[0;32m-> 4150\u001b[0;31m                 \u001b[0mobj\u001b[0m \u001b[0;34m=\u001b[0m \u001b[0mobj\u001b[0m\u001b[0;34m.\u001b[0m\u001b[0m_drop_axis\u001b[0m\u001b[0;34m(\u001b[0m\u001b[0mlabels\u001b[0m\u001b[0;34m,\u001b[0m \u001b[0maxis\u001b[0m\u001b[0;34m,\u001b[0m \u001b[0mlevel\u001b[0m\u001b[0;34m=\u001b[0m\u001b[0mlevel\u001b[0m\u001b[0;34m,\u001b[0m \u001b[0merrors\u001b[0m\u001b[0;34m=\u001b[0m\u001b[0merrors\u001b[0m\u001b[0;34m)\u001b[0m\u001b[0;34m\u001b[0m\u001b[0;34m\u001b[0m\u001b[0m\n\u001b[0m\u001b[1;32m   4151\u001b[0m \u001b[0;34m\u001b[0m\u001b[0m\n\u001b[1;32m   4152\u001b[0m         \u001b[0;32mif\u001b[0m \u001b[0minplace\u001b[0m\u001b[0;34m:\u001b[0m\u001b[0;34m\u001b[0m\u001b[0;34m\u001b[0m\u001b[0m\n",
            "\u001b[0;32m/usr/local/lib/python3.8/dist-packages/pandas/core/generic.py\u001b[0m in \u001b[0;36m_drop_axis\u001b[0;34m(self, labels, axis, level, errors)\u001b[0m\n\u001b[1;32m   4183\u001b[0m                 \u001b[0mnew_axis\u001b[0m \u001b[0;34m=\u001b[0m \u001b[0maxis\u001b[0m\u001b[0;34m.\u001b[0m\u001b[0mdrop\u001b[0m\u001b[0;34m(\u001b[0m\u001b[0mlabels\u001b[0m\u001b[0;34m,\u001b[0m \u001b[0mlevel\u001b[0m\u001b[0;34m=\u001b[0m\u001b[0mlevel\u001b[0m\u001b[0;34m,\u001b[0m \u001b[0merrors\u001b[0m\u001b[0;34m=\u001b[0m\u001b[0merrors\u001b[0m\u001b[0;34m)\u001b[0m\u001b[0;34m\u001b[0m\u001b[0;34m\u001b[0m\u001b[0m\n\u001b[1;32m   4184\u001b[0m             \u001b[0;32melse\u001b[0m\u001b[0;34m:\u001b[0m\u001b[0;34m\u001b[0m\u001b[0;34m\u001b[0m\u001b[0m\n\u001b[0;32m-> 4185\u001b[0;31m                 \u001b[0mnew_axis\u001b[0m \u001b[0;34m=\u001b[0m \u001b[0maxis\u001b[0m\u001b[0;34m.\u001b[0m\u001b[0mdrop\u001b[0m\u001b[0;34m(\u001b[0m\u001b[0mlabels\u001b[0m\u001b[0;34m,\u001b[0m \u001b[0merrors\u001b[0m\u001b[0;34m=\u001b[0m\u001b[0merrors\u001b[0m\u001b[0;34m)\u001b[0m\u001b[0;34m\u001b[0m\u001b[0;34m\u001b[0m\u001b[0m\n\u001b[0m\u001b[1;32m   4186\u001b[0m             \u001b[0mresult\u001b[0m \u001b[0;34m=\u001b[0m \u001b[0mself\u001b[0m\u001b[0;34m.\u001b[0m\u001b[0mreindex\u001b[0m\u001b[0;34m(\u001b[0m\u001b[0;34m**\u001b[0m\u001b[0;34m{\u001b[0m\u001b[0maxis_name\u001b[0m\u001b[0;34m:\u001b[0m \u001b[0mnew_axis\u001b[0m\u001b[0;34m}\u001b[0m\u001b[0;34m)\u001b[0m\u001b[0;34m\u001b[0m\u001b[0;34m\u001b[0m\u001b[0m\n\u001b[1;32m   4187\u001b[0m \u001b[0;34m\u001b[0m\u001b[0m\n",
            "\u001b[0;32m/usr/local/lib/python3.8/dist-packages/pandas/core/indexes/base.py\u001b[0m in \u001b[0;36mdrop\u001b[0;34m(self, labels, errors)\u001b[0m\n\u001b[1;32m   6015\u001b[0m         \u001b[0;32mif\u001b[0m \u001b[0mmask\u001b[0m\u001b[0;34m.\u001b[0m\u001b[0many\u001b[0m\u001b[0;34m(\u001b[0m\u001b[0;34m)\u001b[0m\u001b[0;34m:\u001b[0m\u001b[0;34m\u001b[0m\u001b[0;34m\u001b[0m\u001b[0m\n\u001b[1;32m   6016\u001b[0m             \u001b[0;32mif\u001b[0m \u001b[0merrors\u001b[0m \u001b[0;34m!=\u001b[0m \u001b[0;34m\"ignore\"\u001b[0m\u001b[0;34m:\u001b[0m\u001b[0;34m\u001b[0m\u001b[0;34m\u001b[0m\u001b[0m\n\u001b[0;32m-> 6017\u001b[0;31m                 \u001b[0;32mraise\u001b[0m \u001b[0mKeyError\u001b[0m\u001b[0;34m(\u001b[0m\u001b[0;34mf\"{labels[mask]} not found in axis\"\u001b[0m\u001b[0;34m)\u001b[0m\u001b[0;34m\u001b[0m\u001b[0;34m\u001b[0m\u001b[0m\n\u001b[0m\u001b[1;32m   6018\u001b[0m             \u001b[0mindexer\u001b[0m \u001b[0;34m=\u001b[0m \u001b[0mindexer\u001b[0m\u001b[0;34m[\u001b[0m\u001b[0;34m~\u001b[0m\u001b[0mmask\u001b[0m\u001b[0;34m]\u001b[0m\u001b[0;34m\u001b[0m\u001b[0;34m\u001b[0m\u001b[0m\n\u001b[1;32m   6019\u001b[0m         \u001b[0;32mreturn\u001b[0m \u001b[0mself\u001b[0m\u001b[0;34m.\u001b[0m\u001b[0mdelete\u001b[0m\u001b[0;34m(\u001b[0m\u001b[0mindexer\u001b[0m\u001b[0;34m)\u001b[0m\u001b[0;34m\u001b[0m\u001b[0;34m\u001b[0m\u001b[0m\n",
            "\u001b[0;31mKeyError\u001b[0m: \"['prediction'] not found in axis\""
          ]
        }
      ]
    },
    {
      "cell_type": "code",
      "source": [
        "data_scale_output = data_scale_output.toPandas()\n",
        "from sklearn.cluster import KMeans\n",
        "Sum_of_squared_distances = []\n",
        "K = range(1,15)\n",
        "for k in K:\n",
        "  clusterer = KMeans(n_clusters=K)\n",
        "  clusterer.fit()\n",
        "  inertia = clusterer.inertia_"
      ],
      "metadata": {
        "colab": {
          "base_uri": "https://localhost:8080/",
          "height": 449
        },
        "id": "9RpdrxRXdd7j",
        "outputId": "0202e401-d68b-4745-b126-4d5ae8b717b1"
      },
      "execution_count": null,
      "outputs": [
        {
          "output_type": "stream",
          "name": "stderr",
          "text": [
            "Exception ignored in: <function JavaWrapper.__del__ at 0x7f1f960555e0>\n",
            "Traceback (most recent call last):\n",
            "  File \"/content/spark-3.0.0-bin-hadoop3.2/python/pyspark/ml/wrapper.py\", line 42, in __del__\n",
            "    if SparkContext._active_spark_context and self._java_obj is not None:\n",
            "AttributeError: 'KMeans' object has no attribute '_java_obj'\n"
          ]
        },
        {
          "output_type": "error",
          "ename": "ValueError",
          "evalue": "ignored",
          "traceback": [
            "\u001b[0;31m---------------------------------------------------------------------------\u001b[0m",
            "\u001b[0;31mValueError\u001b[0m                                Traceback (most recent call last)",
            "\u001b[0;32m<ipython-input-127-e5e6fee057e1>\u001b[0m in \u001b[0;36m<module>\u001b[0;34m\u001b[0m\n\u001b[1;32m      5\u001b[0m \u001b[0;32mfor\u001b[0m \u001b[0mk\u001b[0m \u001b[0;32min\u001b[0m \u001b[0mK\u001b[0m\u001b[0;34m:\u001b[0m\u001b[0;34m\u001b[0m\u001b[0;34m\u001b[0m\u001b[0m\n\u001b[1;32m      6\u001b[0m   \u001b[0mclusterer\u001b[0m \u001b[0;34m=\u001b[0m \u001b[0mKMeans\u001b[0m\u001b[0;34m(\u001b[0m\u001b[0mn_clusters\u001b[0m\u001b[0;34m=\u001b[0m\u001b[0mK\u001b[0m\u001b[0;34m)\u001b[0m\u001b[0;34m\u001b[0m\u001b[0;34m\u001b[0m\u001b[0m\n\u001b[0;32m----> 7\u001b[0;31m   \u001b[0mclusterer\u001b[0m\u001b[0;34m.\u001b[0m\u001b[0mfit\u001b[0m\u001b[0;34m(\u001b[0m\u001b[0mdata_scale_output\u001b[0m\u001b[0;34m)\u001b[0m\u001b[0;34m\u001b[0m\u001b[0;34m\u001b[0m\u001b[0m\n\u001b[0m\u001b[1;32m      8\u001b[0m   \u001b[0minertia\u001b[0m \u001b[0;34m=\u001b[0m \u001b[0mclusterer\u001b[0m\u001b[0;34m.\u001b[0m\u001b[0minertia_\u001b[0m\u001b[0;34m\u001b[0m\u001b[0;34m\u001b[0m\u001b[0m\n",
            "\u001b[0;32m/usr/local/lib/python3.8/dist-packages/sklearn/cluster/_kmeans.py\u001b[0m in \u001b[0;36mfit\u001b[0;34m(self, X, y, sample_weight)\u001b[0m\n\u001b[1;32m   1135\u001b[0m             \u001b[0mFitted\u001b[0m \u001b[0mestimator\u001b[0m\u001b[0;34m.\u001b[0m\u001b[0;34m\u001b[0m\u001b[0;34m\u001b[0m\u001b[0m\n\u001b[1;32m   1136\u001b[0m         \"\"\"\n\u001b[0;32m-> 1137\u001b[0;31m         X = self._validate_data(\n\u001b[0m\u001b[1;32m   1138\u001b[0m             \u001b[0mX\u001b[0m\u001b[0;34m,\u001b[0m\u001b[0;34m\u001b[0m\u001b[0;34m\u001b[0m\u001b[0m\n\u001b[1;32m   1139\u001b[0m             \u001b[0maccept_sparse\u001b[0m\u001b[0;34m=\u001b[0m\u001b[0;34m\"csr\"\u001b[0m\u001b[0;34m,\u001b[0m\u001b[0;34m\u001b[0m\u001b[0;34m\u001b[0m\u001b[0m\n",
            "\u001b[0;32m/usr/local/lib/python3.8/dist-packages/sklearn/base.py\u001b[0m in \u001b[0;36m_validate_data\u001b[0;34m(self, X, y, reset, validate_separately, **check_params)\u001b[0m\n\u001b[1;32m    564\u001b[0m             \u001b[0;32mraise\u001b[0m \u001b[0mValueError\u001b[0m\u001b[0;34m(\u001b[0m\u001b[0;34m\"Validation should be done on X, y or both.\"\u001b[0m\u001b[0;34m)\u001b[0m\u001b[0;34m\u001b[0m\u001b[0;34m\u001b[0m\u001b[0m\n\u001b[1;32m    565\u001b[0m         \u001b[0;32melif\u001b[0m \u001b[0;32mnot\u001b[0m \u001b[0mno_val_X\u001b[0m \u001b[0;32mand\u001b[0m \u001b[0mno_val_y\u001b[0m\u001b[0;34m:\u001b[0m\u001b[0;34m\u001b[0m\u001b[0;34m\u001b[0m\u001b[0m\n\u001b[0;32m--> 566\u001b[0;31m             \u001b[0mX\u001b[0m \u001b[0;34m=\u001b[0m \u001b[0mcheck_array\u001b[0m\u001b[0;34m(\u001b[0m\u001b[0mX\u001b[0m\u001b[0;34m,\u001b[0m \u001b[0;34m**\u001b[0m\u001b[0mcheck_params\u001b[0m\u001b[0;34m)\u001b[0m\u001b[0;34m\u001b[0m\u001b[0;34m\u001b[0m\u001b[0m\n\u001b[0m\u001b[1;32m    567\u001b[0m             \u001b[0mout\u001b[0m \u001b[0;34m=\u001b[0m \u001b[0mX\u001b[0m\u001b[0;34m\u001b[0m\u001b[0;34m\u001b[0m\u001b[0m\n\u001b[1;32m    568\u001b[0m         \u001b[0;32melif\u001b[0m \u001b[0mno_val_X\u001b[0m \u001b[0;32mand\u001b[0m \u001b[0;32mnot\u001b[0m \u001b[0mno_val_y\u001b[0m\u001b[0;34m:\u001b[0m\u001b[0;34m\u001b[0m\u001b[0;34m\u001b[0m\u001b[0m\n",
            "\u001b[0;32m/usr/local/lib/python3.8/dist-packages/sklearn/utils/validation.py\u001b[0m in \u001b[0;36mcheck_array\u001b[0;34m(array, accept_sparse, accept_large_sparse, dtype, order, copy, force_all_finite, ensure_2d, allow_nd, ensure_min_samples, ensure_min_features, estimator)\u001b[0m\n\u001b[1;32m    744\u001b[0m                     \u001b[0marray\u001b[0m \u001b[0;34m=\u001b[0m \u001b[0marray\u001b[0m\u001b[0;34m.\u001b[0m\u001b[0mastype\u001b[0m\u001b[0;34m(\u001b[0m\u001b[0mdtype\u001b[0m\u001b[0;34m,\u001b[0m \u001b[0mcasting\u001b[0m\u001b[0;34m=\u001b[0m\u001b[0;34m\"unsafe\"\u001b[0m\u001b[0;34m,\u001b[0m \u001b[0mcopy\u001b[0m\u001b[0;34m=\u001b[0m\u001b[0;32mFalse\u001b[0m\u001b[0;34m)\u001b[0m\u001b[0;34m\u001b[0m\u001b[0;34m\u001b[0m\u001b[0m\n\u001b[1;32m    745\u001b[0m                 \u001b[0;32melse\u001b[0m\u001b[0;34m:\u001b[0m\u001b[0;34m\u001b[0m\u001b[0;34m\u001b[0m\u001b[0m\n\u001b[0;32m--> 746\u001b[0;31m                     \u001b[0marray\u001b[0m \u001b[0;34m=\u001b[0m \u001b[0mnp\u001b[0m\u001b[0;34m.\u001b[0m\u001b[0masarray\u001b[0m\u001b[0;34m(\u001b[0m\u001b[0marray\u001b[0m\u001b[0;34m,\u001b[0m \u001b[0morder\u001b[0m\u001b[0;34m=\u001b[0m\u001b[0morder\u001b[0m\u001b[0;34m,\u001b[0m \u001b[0mdtype\u001b[0m\u001b[0;34m=\u001b[0m\u001b[0mdtype\u001b[0m\u001b[0;34m)\u001b[0m\u001b[0;34m\u001b[0m\u001b[0;34m\u001b[0m\u001b[0m\n\u001b[0m\u001b[1;32m    747\u001b[0m             \u001b[0;32mexcept\u001b[0m \u001b[0mComplexWarning\u001b[0m \u001b[0;32mas\u001b[0m \u001b[0mcomplex_warning\u001b[0m\u001b[0;34m:\u001b[0m\u001b[0;34m\u001b[0m\u001b[0;34m\u001b[0m\u001b[0m\n\u001b[1;32m    748\u001b[0m                 raise ValueError(\n",
            "\u001b[0;32m/usr/local/lib/python3.8/dist-packages/pandas/core/generic.py\u001b[0m in \u001b[0;36m__array__\u001b[0;34m(self, dtype)\u001b[0m\n\u001b[1;32m   1991\u001b[0m \u001b[0;34m\u001b[0m\u001b[0m\n\u001b[1;32m   1992\u001b[0m     \u001b[0;32mdef\u001b[0m \u001b[0m__array__\u001b[0m\u001b[0;34m(\u001b[0m\u001b[0mself\u001b[0m\u001b[0;34m,\u001b[0m \u001b[0mdtype\u001b[0m\u001b[0;34m:\u001b[0m \u001b[0mNpDtype\u001b[0m \u001b[0;34m|\u001b[0m \u001b[0;32mNone\u001b[0m \u001b[0;34m=\u001b[0m \u001b[0;32mNone\u001b[0m\u001b[0;34m)\u001b[0m \u001b[0;34m->\u001b[0m \u001b[0mnp\u001b[0m\u001b[0;34m.\u001b[0m\u001b[0mndarray\u001b[0m\u001b[0;34m:\u001b[0m\u001b[0;34m\u001b[0m\u001b[0;34m\u001b[0m\u001b[0m\n\u001b[0;32m-> 1993\u001b[0;31m         \u001b[0;32mreturn\u001b[0m \u001b[0mnp\u001b[0m\u001b[0;34m.\u001b[0m\u001b[0masarray\u001b[0m\u001b[0;34m(\u001b[0m\u001b[0mself\u001b[0m\u001b[0;34m.\u001b[0m\u001b[0m_values\u001b[0m\u001b[0;34m,\u001b[0m \u001b[0mdtype\u001b[0m\u001b[0;34m=\u001b[0m\u001b[0mdtype\u001b[0m\u001b[0;34m)\u001b[0m\u001b[0;34m\u001b[0m\u001b[0;34m\u001b[0m\u001b[0m\n\u001b[0m\u001b[1;32m   1994\u001b[0m \u001b[0;34m\u001b[0m\u001b[0m\n\u001b[1;32m   1995\u001b[0m     def __array_wrap__(\n",
            "\u001b[0;31mValueError\u001b[0m: could not convert string to float: 'CA-2012-124891'"
          ]
        }
      ]
    }
  ]
}